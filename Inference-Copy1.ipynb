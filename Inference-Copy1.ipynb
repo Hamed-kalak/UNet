{
 "cells": [
  {
   "cell_type": "code",
   "execution_count": 1,
   "id": "bf424be8-5b60-4d28-a4da-1b9372354439",
   "metadata": {
    "tags": []
   },
   "outputs": [],
   "source": [
    "import os\n",
    "import numpy as np\n",
    "from PIL import Image\n",
    "import matplotlib.pyplot as plt\n",
    "from natsort import natsorted\n",
    "import os\n",
    "import cv2\n",
    "import numpy as np\n",
    "import matplotlib.pyplot as plt\n",
    "from tqdm import tqdm  # Import tqdm for the progress bar\n",
    "import re  # Import the re module for regular expressions\n",
    "from matplotlib.colors import ListedColormap, BoundaryNorm\n"
   ]
  },
  {
   "cell_type": "code",
   "execution_count": 2,
   "id": "290cb08e-8431-4586-b0e2-0cf473a09fb5",
   "metadata": {
    "tags": []
   },
   "outputs": [],
   "source": [
    "data_dir = 'D:/Hamed/Forschungsproject/Hancock 1/Tiles_0.9_256_176ov_all'"
   ]
  },
  {
   "cell_type": "code",
   "execution_count": 3,
   "id": "8e37e9fb-d39d-4dbd-bbb7-c47cfd10b987",
   "metadata": {
    "tags": []
   },
   "outputs": [],
   "source": [
    "def get_slide_path(data_dir):\n",
    "    x = []\n",
    "    for filename in natsorted(os.listdir(data_dir)):\n",
    "        x.append(os.path.join(data_dir, filename))   \n",
    "    return x"
   ]
  },
  {
   "cell_type": "code",
   "execution_count": 4,
   "id": "3736edfd-9066-4000-a809-53029b7dc73c",
   "metadata": {
    "tags": []
   },
   "outputs": [],
   "source": [
    "def get_image_path(data_dir):\n",
    "    png_files = []\n",
    "\n",
    "    for filename in natsorted(os.listdir(data_dir)):\n",
    "        if filename.endswith('.png'):\n",
    "            png_files.append(os.path.join(data_dir, filename))\n",
    "\n",
    "    return png_files\n",
    "\n",
    "\n"
   ]
  },
  {
   "cell_type": "code",
   "execution_count": 5,
   "id": "3665db66-255c-48ac-988c-9715196d4686",
   "metadata": {
    "tags": []
   },
   "outputs": [
    {
     "data": {
      "text/plain": [
       "(147456, 98304)"
      ]
     },
     "execution_count": 5,
     "metadata": {},
     "output_type": "execute_result"
    }
   ],
   "source": [
    "def get_dim(data_dir):\n",
    "    for filename in natsorted(os.listdir(data_dir)):\n",
    "        if filename.endswith('.txt'):\n",
    "            file_path = os.path.join(data_dir, filename)\n",
    "            with open(file_path, 'r') as file:\n",
    "                content = file.readlines()\n",
    "                \n",
    "                # Initialize variables outside the loop\n",
    "                height = None\n",
    "                width = None\n",
    "                \n",
    "                for line in content:\n",
    "                    if line.startswith('Height:'):\n",
    "                        height = int(line.split(':')[1].strip())\n",
    "                    elif line.startswith('Width:'):\n",
    "                        width = int(line.split(':')[1].strip())\n",
    "\n",
    "                return height, width\n",
    "\n",
    "\n",
    "get_dim(get_slide_path(data_dir)[0])"
   ]
  },
  {
   "cell_type": "code",
   "execution_count": 6,
   "id": "04271220-e2ce-4601-9de4-03df77e194fe",
   "metadata": {
    "tags": []
   },
   "outputs": [
    {
     "name": "stderr",
     "output_type": "stream",
     "text": [
      "C:\\Users\\ve59kedo\\.conda\\envs\\HUNet\\lib\\site-packages\\scipy\\__init__.py:155: UserWarning: A NumPy version >=1.18.5 and <1.25.0 is required for this version of SciPy (detected version 1.25.0\n",
      "  warnings.warn(f\"A NumPy version >={np_minversion} and <{np_maxversion}\"\n"
     ]
    },
    {
     "name": "stdout",
     "output_type": "stream",
     "text": [
      "Segmentation Models: using `keras` framework.\n"
     ]
    }
   ],
   "source": [
    "import tensorflow as tf\n",
    "from segmentation_models.metrics import IOUScore\n",
    "from segmentation_models.losses import *\n",
    "from segmentation_models.metrics import *\n",
    "from tensorflow.keras.models import load_model\n",
    "\n",
    "WCat = CategoricalCELoss(class_weights=[0,1,1,1])\n",
    "\n",
    "# Define the custom metrics\n",
    "metric = IOUScore()\n",
    "IOUscore0 = IOUScore(class_indexes=0, name='IOU_Not_Annotated')\n",
    "IOUscore1 = IOUScore(class_indexes=1, name='IOU_Tumor')\n",
    "IOUscore2 = IOUScore(class_indexes=2, name='IOU_Other')\n",
    "IOUscore3 = IOUScore(class_indexes=3, name='IOU_White_BG')\n",
    "\n",
    "# Register the custom metrics in custom_objects\n",
    "custom_objects = {\n",
    "    'IOU_Not_Annotated': IOUscore0,\n",
    "    'IOU_Tumor': IOUscore1,\n",
    "    'IOU_Other': IOUscore2,\n",
    "    'IOU_White_BG': IOUscore3\n",
    "}\n",
    "\n",
    "def calculate_intersection(class_index, pred_mask, true_mask):\n",
    "    # Get masks for the specified class\n",
    "    pred_class_mask = tf.cast(pred_mask[..., class_index], dtype=tf.float32)\n",
    "    true_class_mask = tf.cast(true_mask[..., class_index], dtype=tf.float32)\n",
    "\n",
    "    # Calculate intersection\n",
    "    intersection = tf.reduce_sum(tf.math.minimum(pred_class_mask, true_class_mask))\n",
    "\n",
    "    # Calculate union\n",
    "    union = tf.reduce_sum(true_class_mask)\n",
    "\n",
    "    # Avoid division by zero\n",
    "    epsilon = 1e-7\n",
    "    union = tf.maximum(union, epsilon)\n",
    "\n",
    "    # Calculate IoU\n",
    "    iou = intersection / union\n",
    "\n",
    "    return iou\n",
    "\n",
    "def ch_0(y_true, y_pred):\n",
    "    return calculate_intersection(0, y_pred, y_true)\n",
    "\n",
    "def ch_1(y_true, y_pred):\n",
    "    return calculate_intersection(1, y_pred, y_true)\n",
    "\n",
    "def ch_2(y_true, y_pred):\n",
    "    return calculate_intersection(2, y_pred, y_true)\n",
    "\n",
    "def ch_3(y_true, y_pred):\n",
    "    return calculate_intersection(3, y_pred, y_true)\n",
    "\n",
    "# Load the model with custom objects registered\n",
    "# model_T32 = load_model('D:/Hamed/Forschungsproject/Hancock 2/32MIT_results/model_T32EFF', custom_objects={'CategoricalCELoss': WCat, 'ch_0': ch_0, 'ch_1': ch_1, 'ch_2': ch_2, 'ch_3': ch_3})\n",
    "model_T16 = load_model('D:/Hamed/Forschungsproject/Hancock 2/16MIT_results/model_T16EFF', custom_objects={'CategoricalCELoss': WCat, 'ch_0': ch_0, 'ch_1': ch_1, 'ch_2': ch_2, 'ch_3': ch_3})\n",
    "# model_T8 = load_model('D:/Hamed/Forschungsproject/Hancock 2/8MIT_results/model_T8EFF', custom_objects={'CategoricalCELoss': WCat, 'ch_0': ch_0, 'ch_1': ch_1, 'ch_2': ch_2, 'ch_3': ch_3})\n",
    "\n",
    "\n",
    "# model_T = load_model('D:/Hamed/model_c4_Tumor_only', custom_objects=custom_objects)\n",
    "# model_TV = load_model('D:/Hamed/model_c4_necrosis', custom_objects=custom_objects)\n",
    "# model_TVN = load_model('D:/Hamed/model_c4', custom_objects=custom_objects)\n"
   ]
  },
  {
   "cell_type": "code",
   "execution_count": 5,
   "id": "b264c45a-99cf-4662-89e9-f5b0d92d9630",
   "metadata": {
    "tags": []
   },
   "outputs": [
    {
     "data": {
      "text/plain": [
       "(17596, 31620)"
      ]
     },
     "execution_count": 5,
     "metadata": {},
     "output_type": "execute_result"
    }
   ],
   "source": [
    "import cv2\n",
    "import numpy as np\n",
    "import matplotlib.pyplot as plt\n",
    "from tqdm import tqdm  # Import tqdm for the progress bar\n",
    "import re  # Import the re module for regular expressions\n",
    "from matplotlib.colors import ListedColormap, BoundaryNorm\n",
    "\n",
    "scaling_factor = 4.627844195912071\n",
    "\n",
    "pattern = r'd=(\\d+\\.\\d+),x=(\\d+),y=(\\d+),w=(\\d+),h=(\\d+)'\n",
    "match = re.search(pattern, x[-1]) # the very last tile which has the full slide size\n",
    "final_width = int((int(match.group(2))+int(match.group(4))) // scaling_factor)\n",
    "final_height = int((int(match.group(3))+int(match.group(5))) // scaling_factor)\n",
    "\n",
    "final_width,final_height"
   ]
  },
  {
   "cell_type": "code",
   "execution_count": 7,
   "id": "e992e3b7-615f-437e-a713-13cb3aff39bf",
   "metadata": {
    "tags": []
   },
   "outputs": [],
   "source": [
    "def pred_images(image_paths, batch_size=100,model=None,scaling_factor = 4.627844195912071):\n",
    "    # Initialize the final image as None\n",
    "    final_image = np.zeros((final_height, final_width), dtype=np.uint8)  # Initialize with zeros\n",
    "    # Define regular expression pattern to extract tile size and position information\n",
    "    pattern = r'd=(\\d+\\.\\d+),x=(\\d+),y=(\\d+),w=(\\d+),h=(\\d+)'\n",
    "\n",
    "    # Initialize an empty list to store predictions\n",
    "    all_predictions = []\n",
    "\n",
    "    with tqdm(total=len(image_paths)) as pbar:\n",
    "        for batch_start in range(0, len(image_paths), batch_size):\n",
    "            # Initialize an empty batch of tiles for the current batch\n",
    "            batch_tiles = np.empty((0, 256, 256, 3), dtype=np.float32)\n",
    "\n",
    "            # Process tiles in the current batch\n",
    "            for tile_path in image_paths[batch_start:batch_start + batch_size]:\n",
    "                \n",
    "                tile = cv2.imread(tile_path)\n",
    "                tile = cv2.cvtColor(tile, cv2.COLOR_BGR2RGB)\n",
    "                tile = np.resize(tile, (256,256,3))\n",
    "                tile = tile.astype(np.float32) / 255.0\n",
    "                tile = tile.reshape(1, 256, 256, 3)\n",
    "                batch_tiles = np.append(batch_tiles, tile, axis=0)\n",
    "                \n",
    "                # Update the progress bar\n",
    "                pbar.update(1)\n",
    "\n",
    "            # Make predictions for the current batch\n",
    "            batch_pred = model.predict(batch_tiles,verbose = 0)\n",
    "            batch_pred = np.argmax(batch_pred, axis=3)\n",
    "            all_predictions.extend(batch_pred)\n",
    "\n",
    "    # Create a tqdm progress bar for the loop\n",
    "    with tqdm(total=len(image_paths)) as pbar:\n",
    "        i = 0\n",
    "        # Loop through the tile paths in your list and place each tile in the final image\n",
    "        for tile_path in image_paths:\n",
    "\n",
    "            # Extract tile size and position information from the tile path using regex\n",
    "            match = re.search(pattern, tile_path)\n",
    "            if match:\n",
    "                x_start = int(int(match.group(2)) // scaling_factor)\n",
    "                y_start = int(int(match.group(3)) // scaling_factor)\n",
    "            else:\n",
    "                # Handle cases where pattern does not match (e.g., invalid filenames)\n",
    "                continue\n",
    "                \n",
    "            # Place the resized tile in the final image at the specified position\n",
    "            x,y = np.shape(final_image[y_start:y_start + 256, x_start:x_start + 256])\n",
    "            final_image[y_start:y_start + 256, x_start:x_start + 256] = all_predictions[i][0:x,0:y]\n",
    "\n",
    "            # Update the progress bar\n",
    "            i += 1\n",
    "            pbar.update(1)\n",
    "\n",
    "    return final_image"
   ]
  },
  {
   "cell_type": "code",
   "execution_count": 53,
   "id": "9db3aa61-26d3-4a15-8406-be36a49fd7e0",
   "metadata": {
    "tags": []
   },
   "outputs": [],
   "source": [
    "import cv2\n",
    "from paquo.projects import QuPathProject\n",
    "from shapely.geometry import Polygon, MultiPolygon\n",
    "from shapely.affinity import affine_transform\n",
    "import numpy as np\n",
    "\n",
    "qp = 'D:/Hamed/Forschungsproject/Hancock 3/project.qpproj'\n",
    "\n",
    "def test_qupath_annotation(qupath_project, slide_path,image,scaling_factor=4.627844195912071,model='?'):\n",
    "    \"\"\"\n",
    "    Adds annotations to the QuPath project based on contours in an image.\n",
    "\n",
    "    :param qupath_project: path/to/project.qpproj\n",
    "    :param image: Loaded image (assuming it's a 2D array, e.g., grayscale)\n",
    "    \"\"\"\n",
    "    \n",
    "    # Open project in append-mode\n",
    "    with QuPathProject(qupath_project, mode=\"a\") as qpout:\n",
    "        # Get first slide\n",
    "        entry = qpout.images\n",
    "        for i in range(len(entry)):\n",
    "            if os.path.join(data_dir, entry[i].image_name) ==  slide_path + '.svs':\n",
    "                print('Found a match!')\n",
    "                contour_binary_mask = (image == 1).astype(np.uint8)\n",
    "\n",
    "                # Assuming you have contours already extracted\n",
    "                contours, hierarchy = cv2.findContours(contour_binary_mask, cv2.RETR_TREE, cv2.CHAIN_APPROX_NONE)\n",
    "\n",
    "                # Convert the contours to a list of Shapely polygons\n",
    "                # check if its a list and change the -1\n",
    "                polygons = [Polygon(contour.reshape(-1, 2)[:, ::1]) for contour in contours if len(contour) >= 3]\n",
    "\n",
    "                # Create a MultiPolygon if there is more than one contour\n",
    "                if len(polygons) > 1:\n",
    "                    multipolygon = MultiPolygon(polygons)\n",
    "                elif len(polygons) == 1:\n",
    "                    multipolygon = polygons[0]\n",
    "                else:\n",
    "                    print(\"No valid contours found.\")\n",
    "                    return\n",
    "\n",
    "                # Get the bounding box of the annotation\n",
    "                min_x, min_y, max_x, max_y = multipolygon.bounds\n",
    "\n",
    "                # Calculate rotation angle (keeping it 0 for now)\n",
    "                rotation_angle = 90  # Adjust the rotation angle as needed\n",
    "\n",
    "\n",
    "                # Mirror on y-axis, rotate, and scale the annotation\n",
    "                # Scale the annotation\n",
    "                scaled_multipolygon = affine_transform(multipolygon, [scaling_factor, 0, 0, scaling_factor, 0, 0])\n",
    "\n",
    "\n",
    "                # Add annotation to the QuPath project\n",
    "                annotation = entry[i].hierarchy.add_annotation(roi=scaled_multipolygon, path_class=qpout.path_classes[0])\n",
    "                annotation.name = model\n",
    "\n"
   ]
  },
  {
   "cell_type": "code",
   "execution_count": 49,
   "id": "1c06f449-2bb2-4e7c-b6fd-ca68bc3f5607",
   "metadata": {
    "tags": []
   },
   "outputs": [],
   "source": [
    "from skimage import io, color\n",
    "from skimage.transform import hough_line, hough_line_peaks\n",
    "from skimage import transform\n",
    "\n",
    "def count_straight_lines_probabilistic_hough(image, threshold=40, min_line_length=100, max_line_gap=10):\n",
    "    # Read the image\n",
    "\n",
    "    image = (image == 1).astype(np.uint8)\n",
    "    # Apply GaussianBlur to reduce noise and improve Hough Transform\n",
    "    blurred_image = cv2.GaussianBlur(image, (5, 5), 0)\n",
    "\n",
    "    # Apply Canny edge detector\n",
    "    edges = cv2.Canny(blurred_image, 0, 1)\n",
    "\n",
    "    # Apply morphological operations to remove noise\n",
    "    kernel = np.ones((5, 5), np.uint8)\n",
    "    edges = cv2.dilate(edges, kernel, iterations=1)\n",
    "    edges = cv2.erode(edges, kernel, iterations=1)\n",
    "\n",
    "    # Apply Probabilistic Hough Transform to detect lines\n",
    "    lines = cv2.HoughLinesP(edges, 1, np.pi / 180, threshold=threshold, minLineLength=min_line_length, maxLineGap=max_line_gap)\n",
    "\n",
    "    return len(lines) if lines is not None else 0 \n",
    "\n",
    "\n",
    "def resize_image(image, scale_factor):\n",
    "    resized_image = transform.resize(image, (int(image.shape[0] * scale_factor),\n",
    "                                             int(image.shape[1] * scale_factor)),\n",
    "                                     anti_aliasing=True)\n",
    "    return resized_image\n",
    "\n",
    "def pred_images_overlap(image_paths, batch_size=1, overlap=1,height=None,width=None,scaling_factor = 4.627844195912071,model=None):\n",
    "    # Initialize the final image as an empty array with shape (final_height, final_width, 4)\n",
    "    final_image = np.zeros((height, width, overlap), dtype=np.uint8)\n",
    "\n",
    "    # Define regular expression pattern to extract tile size and position information\n",
    "    pattern = r'd=(\\d+\\.\\d+),x=(\\d+),y=(\\d+),w=(\\d+),h=(\\d+)'\n",
    "\n",
    "    # Initialize an empty list to store predictions\n",
    "    all_predictions = []\n",
    "\n",
    "    with tqdm(total=len(image_paths)) as pbar:\n",
    "        for batch_start in range(0, len(image_paths), batch_size):\n",
    "            # Initialize an empty batch of tiles for the current batch\n",
    "            batch_tiles = np.empty((0, 256, 256, 3), dtype=np.float32)\n",
    "\n",
    "            # Process tiles in the current batch\n",
    "            for tile_path in image_paths[batch_start:batch_start + batch_size]:\n",
    "                \n",
    "                tile = cv2.imread(tile_path)\n",
    "                tile = cv2.cvtColor(tile, cv2.COLOR_BGR2RGB)\n",
    "                tile = np.resize(tile, (256,256,3))\n",
    "                tile = tile.astype(np.float32) / 255.0\n",
    "                tile = tile.reshape(1, 256, 256, 3)\n",
    "                batch_tiles = np.append(batch_tiles, tile, axis=0)\n",
    "                \n",
    "                # Update the progress bar\n",
    "                pbar.update(1)\n",
    "\n",
    "            # Make predictions for the current batch\n",
    "            batch_pred = model.predict(batch_tiles,verbose = 0)\n",
    "            batch_pred = np.argmax(batch_pred, axis=3)\n",
    "            all_predictions.extend(batch_pred)\n",
    "            \n",
    "            \n",
    "    # Create a tqdm progress bar for the loop\n",
    "    with tqdm(total=len(image_paths)) as pbar:\n",
    "        i = 0\n",
    "        # Loop through the tile paths in your list and place each tile in the final image\n",
    "        for tile_path in image_paths:\n",
    "\n",
    "            # Extract tile size and position information from the tile path using regex\n",
    "            match = re.search(pattern, tile_path)\n",
    "            if match:\n",
    "                x_start = int(int(match.group(2)) // scaling_factor)\n",
    "                y_start = int(int(match.group(3)) // scaling_factor)\n",
    "            else:\n",
    "                # Handle cases where pattern does not match (e.g., invalid filenames)\n",
    "                continue\n",
    "            \n",
    "           \n",
    "            \n",
    "            # Place the resized tile in the final image at the specified position\n",
    "            for channel in range(overlap):\n",
    "                # Find the next available channel\n",
    "                                \n",
    "                if final_image[y_start:y_start + 256, x_start:x_start + 256, channel].max() == 0:\n",
    "                    x,y = np.shape(final_image[y_start:y_start + 256, x_start:x_start + 256,channel])\n",
    "                    final_image[y_start:y_start + 256, x_start:x_start + 256,channel] = all_predictions[i][0:x,0:y]\n",
    "                    break\n",
    "\n",
    "\n",
    "            # Update the progress bar\n",
    "            i += 1\n",
    "            pbar.update(1)\n",
    "\n",
    "    return final_image\n",
    "    \n",
    "\n",
    "def mode_without_zeros(arr):\n",
    "    # Exclude zeros from the array\n",
    "    arr = arr[arr != 0].astype(int)\n",
    "    if arr.size == 0:\n",
    "        # If there are no non-zero elements, return 0\n",
    "        return 0\n",
    "    else:\n",
    "        # Calculate the mode of the non-zero elements\n",
    "        return np.bincount(arr).argmax()\n",
    "\n",
    "def cal_mode(pred_normal, height, width):\n",
    "    modes = np.zeros((height, width), dtype=int)\n",
    "\n",
    "    non_zero_rows = np.any(pred_normal, axis=(1, 2))\n",
    "    non_zero_cols = np.any(pred_normal, axis=(0, 2))\n",
    "\n",
    "    non_zero_row_indices = np.where(non_zero_rows)[0]\n",
    "    non_zero_col_indices = np.where(non_zero_cols)[0]\n",
    "\n",
    "    for i in tqdm(non_zero_row_indices):\n",
    "        for j in non_zero_col_indices:\n",
    "            pixel_values = pred_normal[i, j, :]\n",
    "            modes[i, j] = mode_without_zeros(pixel_values)\n",
    "\n",
    "    return modes"
   ]
  },
  {
   "cell_type": "code",
   "execution_count": null,
   "id": "cb2ca483-9199-415b-ae33-b5cd48627c85",
   "metadata": {
    "tags": []
   },
   "outputs": [
    {
     "name": "stdout",
     "output_type": "stream",
     "text": [
      "Number of images = 17400\n",
      "width = 21241 height = 31862\n"
     ]
    },
    {
     "name": "stderr",
     "output_type": "stream",
     "text": [
      "100%|████████████████████████████████████████████████████████████████████████████| 17400/17400 [06:37<00:00, 43.82it/s]\n",
      "100%|██████████████████████████████████████████████████████████████████████████| 17400/17400 [00:14<00:00, 1201.04it/s]\n",
      "100%|████████████████████████████████████████████████████████████████████████████| 25216/25216 [21:58<00:00, 19.13it/s]\n"
     ]
    },
    {
     "name": "stdout",
     "output_type": "stream",
     "text": [
      "Modes Done\n",
      "D:/Hamed/Forschungsproject/Hancock 1/Tiles_0.9_256_176ov_all\\HNSCC ER 409 B\n",
      "Found a match!\n",
      "Found a match!\n",
      "Found a match!\n",
      "Found a match!\n",
      "Number of images = 25420\n",
      "width = 20356 height = 31862\n"
     ]
    },
    {
     "name": "stderr",
     "output_type": "stream",
     "text": [
      "100%|████████████████████████████████████████████████████████████████████████████| 25420/25420 [29:36<00:00, 14.31it/s]\n",
      "100%|██████████████████████████████████████████████████████████████████████████| 25420/25420 [00:20<00:00, 1226.13it/s]\n",
      "100%|████████████████████████████████████████████████████████████████████████████| 19055/19055 [23:51<00:00, 13.31it/s]\n"
     ]
    },
    {
     "name": "stdout",
     "output_type": "stream",
     "text": [
      "Modes Done\n",
      "D:/Hamed/Forschungsproject/Hancock 1/Tiles_0.9_256_176ov_all\\HNSCC ER 410 B\n",
      "Found a match!\n",
      "Found a match!\n",
      "Found a match!\n",
      "Found a match!\n",
      "Number of images = 34647\n",
      "width = 21241 height = 25667\n"
     ]
    },
    {
     "name": "stderr",
     "output_type": "stream",
     "text": [
      "100%|████████████████████████████████████████████████████████████████████████████| 34647/34647 [43:00<00:00, 13.43it/s]\n",
      "100%|██████████████████████████████████████████████████████████████████████████| 34647/34647 [00:28<00:00, 1200.15it/s]\n",
      "100%|████████████████████████████████████████████████████████████████████████████| 21135/21135 [29:18<00:00, 12.02it/s]\n"
     ]
    },
    {
     "name": "stdout",
     "output_type": "stream",
     "text": [
      "Modes Done\n",
      "D:/Hamed/Forschungsproject/Hancock 1/Tiles_0.9_256_176ov_all\\HNSCC ER 411 D\n",
      "Found a match!\n",
      "Found a match!\n",
      "Found a match!\n",
      "Found a match!\n",
      "Number of images = 47768\n",
      "width = 23897 height = 27437\n"
     ]
    },
    {
     "name": "stderr",
     "output_type": "stream",
     "text": [
      "100%|██████████████████████████████████████████████████████████████████████████| 47768/47768 [1:03:26<00:00, 12.55it/s]\n",
      "100%|██████████████████████████████████████████████████████████████████████████| 47768/47768 [00:40<00:00, 1173.10it/s]\n",
      "100%|████████████████████████████████████████████████████████████████████████████| 22736/22736 [42:54<00:00,  8.83it/s]\n"
     ]
    },
    {
     "name": "stdout",
     "output_type": "stream",
     "text": [
      "Modes Done\n",
      "D:/Hamed/Forschungsproject/Hancock 1/Tiles_0.9_256_176ov_all\\HNSCC ER 412 H\n",
      "Found a match!\n",
      "Found a match!\n",
      "Found a match!\n",
      "Found a match!\n",
      "Number of images = 15682\n",
      "width = 19471 height = 30977\n"
     ]
    },
    {
     "name": "stderr",
     "output_type": "stream",
     "text": [
      "100%|████████████████████████████████████████████████████████████████████████████| 15682/15682 [19:40<00:00, 13.29it/s]\n",
      "100%|██████████████████████████████████████████████████████████████████████████| 15682/15682 [00:12<00:00, 1223.08it/s]\n",
      "100%|████████████████████████████████████████████████████████████████████████████| 11297/11297 [14:50<00:00, 12.68it/s]\n"
     ]
    },
    {
     "name": "stdout",
     "output_type": "stream",
     "text": [
      "Modes Done\n",
      "D:/Hamed/Forschungsproject/Hancock 1/Tiles_0.9_256_176ov_all\\HNSCC ER 413 A\n",
      "Found a match!\n",
      "Found a match!\n",
      "Found a match!\n",
      "Found a match!\n",
      "Number of images = 5796\n",
      "width = 11506 height = 18586\n"
     ]
    },
    {
     "name": "stderr",
     "output_type": "stream",
     "text": [
      "100%|██████████████████████████████████████████████████████████████████████████████| 5796/5796 [06:51<00:00, 14.10it/s]\n",
      "100%|████████████████████████████████████████████████████████████████████████████| 5796/5796 [00:04<00:00, 1292.36it/s]\n",
      "100%|████████████████████████████████████████████████████████████████████████████| 11295/11295 [05:56<00:00, 31.66it/s]\n"
     ]
    },
    {
     "name": "stdout",
     "output_type": "stream",
     "text": [
      "Modes Done\n",
      "D:/Hamed/Forschungsproject/Hancock 1/Tiles_0.9_256_176ov_all\\HNSCC ER 414 D\n",
      "Found a match!\n",
      "Found a match!\n",
      "Found a match!\n",
      "Found a match!\n",
      "Number of images = 24922\n",
      "width = 21241 height = 28322\n"
     ]
    },
    {
     "name": "stderr",
     "output_type": "stream",
     "text": [
      "100%|████████████████████████████████████████████████████████████████████████████| 24922/24922 [32:40<00:00, 12.72it/s]\n",
      "100%|██████████████████████████████████████████████████████████████████████████| 24922/24922 [00:18<00:00, 1319.15it/s]\n",
      "100%|████████████████████████████████████████████████████████████████████████████| 20656/20656 [22:56<00:00, 15.00it/s]\n"
     ]
    },
    {
     "name": "stdout",
     "output_type": "stream",
     "text": [
      "Modes Done\n",
      "D:/Hamed/Forschungsproject/Hancock 1/Tiles_0.9_256_176ov_all\\HNSCC ER 415 E\n",
      "Found a match!\n",
      "Found a match!\n",
      "Found a match!\n",
      "Found a match!\n",
      "Number of images = 34308\n",
      "width = 24782 height = 29207\n"
     ]
    },
    {
     "name": "stderr",
     "output_type": "stream",
     "text": [
      "100%|████████████████████████████████████████████████████████████████████████████| 34308/34308 [46:41<00:00, 12.25it/s]\n",
      "100%|██████████████████████████████████████████████████████████████████████████| 34308/34308 [00:28<00:00, 1198.57it/s]\n",
      "100%|████████████████████████████████████████████████████████████████████████████| 19456/19456 [33:59<00:00,  9.54it/s]\n"
     ]
    },
    {
     "name": "stdout",
     "output_type": "stream",
     "text": [
      "Modes Done\n",
      "D:/Hamed/Forschungsproject/Hancock 1/Tiles_0.9_256_176ov_all\\HNSCC ER 416 D\n",
      "Found a match!\n",
      "Found a match!\n",
      "Found a match!\n",
      "Found a match!\n",
      "Number of images = 6126\n",
      "width = 23012 height = 35403\n"
     ]
    },
    {
     "name": "stderr",
     "output_type": "stream",
     "text": [
      "100%|██████████████████████████████████████████████████████████████████████████████| 6126/6126 [06:56<00:00, 14.70it/s]\n",
      "100%|████████████████████████████████████████████████████████████████████████████| 6126/6126 [00:04<00:00, 1304.95it/s]\n",
      "100%|████████████████████████████████████████████████████████████████████████████| 10816/10816 [08:53<00:00, 20.28it/s]\n"
     ]
    },
    {
     "name": "stdout",
     "output_type": "stream",
     "text": [
      "Modes Done\n",
      "D:/Hamed/Forschungsproject/Hancock 1/Tiles_0.9_256_176ov_all\\HNSCC ER 417 B\n",
      "Found a match!\n",
      "Found a match!\n",
      "Found a match!\n",
      "Found a match!\n",
      "Number of images = 12210\n",
      "width = 19471 height = 34518\n"
     ]
    },
    {
     "name": "stderr",
     "output_type": "stream",
     "text": [
      "100%|████████████████████████████████████████████████████████████████████████████| 12210/12210 [14:34<00:00, 13.97it/s]\n",
      "100%|██████████████████████████████████████████████████████████████████████████| 12210/12210 [00:10<00:00, 1122.51it/s]\n",
      "100%|████████████████████████████████████████████████████████████████████████████| 13616/13616 [10:44<00:00, 21.14it/s]\n"
     ]
    },
    {
     "name": "stdout",
     "output_type": "stream",
     "text": [
      "Modes Done\n",
      "D:/Hamed/Forschungsproject/Hancock 1/Tiles_0.9_256_176ov_all\\HNSCC ER 418 A\n",
      "Found a match!\n",
      "Found a match!\n",
      "Found a match!\n",
      "Found a match!\n",
      "Number of images = 2980\n",
      "width = 11506 height = 27437\n"
     ]
    },
    {
     "name": "stderr",
     "output_type": "stream",
     "text": [
      "100%|██████████████████████████████████████████████████████████████████████████████| 2980/2980 [03:30<00:00, 14.14it/s]\n",
      "100%|████████████████████████████████████████████████████████████████████████████| 2980/2980 [00:02<00:00, 1174.44it/s]\n",
      "100%|██████████████████████████████████████████████████████████████████████████████| 5697/5697 [02:24<00:00, 39.44it/s]\n"
     ]
    },
    {
     "name": "stdout",
     "output_type": "stream",
     "text": [
      "Modes Done\n",
      "D:/Hamed/Forschungsproject/Hancock 1/Tiles_0.9_256_176ov_all\\HNSCC ER 419 B\n",
      "Found a match!\n",
      "Found a match!\n",
      "Found a match!\n",
      "Found a match!\n",
      "Number of images = 56813\n",
      "width = 25667 height = 27437\n"
     ]
    },
    {
     "name": "stderr",
     "output_type": "stream",
     "text": [
      "100%|██████████████████████████████████████████████████████████████████████████| 56813/56813 [1:18:40<00:00, 12.04it/s]\n",
      "100%|██████████████████████████████████████████████████████████████████████████| 56813/56813 [00:50<00:00, 1122.86it/s]\n",
      "100%|████████████████████████████████████████████████████████████████████████████| 22975/22975 [50:15<00:00,  7.62it/s]\n"
     ]
    },
    {
     "name": "stdout",
     "output_type": "stream",
     "text": [
      "Modes Done\n",
      "D:/Hamed/Forschungsproject/Hancock 1/Tiles_0.9_256_176ov_all\\HNSCC ER 420 E\n",
      "Found a match!\n",
      "Found a match!\n",
      "Found a match!\n",
      "Found a match!\n",
      "Number of images = 31070\n",
      "width = 24782 height = 29207\n"
     ]
    },
    {
     "name": "stderr",
     "output_type": "stream",
     "text": [
      "100%|████████████████████████████████████████████████████████████████████████████| 31070/31070 [35:25<00:00, 14.62it/s]\n",
      "100%|██████████████████████████████████████████████████████████████████████████| 31070/31070 [00:26<00:00, 1170.09it/s]\n",
      "100%|████████████████████████████████████████████████████████████████████████████| 18655/18655 [31:45<00:00,  9.79it/s]\n"
     ]
    },
    {
     "name": "stdout",
     "output_type": "stream",
     "text": [
      "Modes Done\n",
      "D:/Hamed/Forschungsproject/Hancock 1/Tiles_0.9_256_176ov_all\\HNSCC ER 421 E\n",
      "Found a match!\n",
      "Found a match!\n",
      "Found a match!\n",
      "Found a match!\n",
      "Number of images = 13491\n",
      "width = 24782 height = 32747\n"
     ]
    },
    {
     "name": "stderr",
     "output_type": "stream",
     "text": [
      "100%|████████████████████████████████████████████████████████████████████████████| 13491/13491 [14:46<00:00, 15.22it/s]\n",
      "100%|██████████████████████████████████████████████████████████████████████████| 13491/13491 [00:11<00:00, 1201.16it/s]\n",
      "100%|████████████████████████████████████████████████████████████████████████████| 13376/13376 [13:36<00:00, 16.38it/s]\n"
     ]
    },
    {
     "name": "stdout",
     "output_type": "stream",
     "text": [
      "Modes Done\n",
      "D:/Hamed/Forschungsproject/Hancock 1/Tiles_0.9_256_176ov_all\\HNSCC ER 423 A\n",
      "Found a match!\n",
      "Found a match!\n",
      "Found a match!\n",
      "Found a match!\n",
      "Number of images = 0\n",
      "width = 23897 height = 41598\n"
     ]
    },
    {
     "name": "stderr",
     "output_type": "stream",
     "text": [
      "0it [00:00, ?it/s]\n",
      "0it [00:00, ?it/s]\n",
      "0it [00:00, ?it/s]\n"
     ]
    },
    {
     "name": "stdout",
     "output_type": "stream",
     "text": [
      "Modes Done\n",
      "D:/Hamed/Forschungsproject/Hancock 1/Tiles_0.9_256_176ov_all\\HNSCC ER 426 A\n",
      "Found a match!\n",
      "No valid contours found.\n",
      "Found a match!\n",
      "No valid contours found.\n",
      "Found a match!\n",
      "No valid contours found.\n",
      "Found a match!\n",
      "No valid contours found.\n",
      "Number of images = 9366\n",
      "width = 21241 height = 25667\n"
     ]
    },
    {
     "name": "stderr",
     "output_type": "stream",
     "text": [
      "100%|██████████████████████████████████████████████████████████████████████████████| 9366/9366 [09:58<00:00, 15.65it/s]\n",
      "100%|████████████████████████████████████████████████████████████████████████████| 9366/9366 [00:07<00:00, 1209.49it/s]\n",
      "100%|████████████████████████████████████████████████████████████████████████████| 14096/14096 [10:07<00:00, 23.20it/s]\n"
     ]
    },
    {
     "name": "stdout",
     "output_type": "stream",
     "text": [
      "Modes Done\n",
      "D:/Hamed/Forschungsproject/Hancock 1/Tiles_0.9_256_176ov_all\\HNSCC ER 427 A\n",
      "Found a match!\n",
      "Found a match!\n",
      "Found a match!\n",
      "Found a match!\n",
      "Number of images = 24743\n",
      "width = 22126 height = 21241\n"
     ]
    },
    {
     "name": "stderr",
     "output_type": "stream",
     "text": [
      "100%|████████████████████████████████████████████████████████████████████████████| 24743/24743 [27:47<00:00, 14.84it/s]\n",
      "100%|██████████████████████████████████████████████████████████████████████████| 24743/24743 [00:21<00:00, 1163.53it/s]\n",
      "100%|████████████████████████████████████████████████████████████████████████████| 18176/18176 [21:53<00:00, 13.83it/s]\n"
     ]
    },
    {
     "name": "stdout",
     "output_type": "stream",
     "text": [
      "Modes Done\n",
      "D:/Hamed/Forschungsproject/Hancock 1/Tiles_0.9_256_176ov_all\\HNSCC ER 428 A\n",
      "Found a match!\n",
      "Found a match!\n",
      "Found a match!\n",
      "Found a match!\n",
      "Number of images = 5891\n",
      "width = 24782 height = 30092\n"
     ]
    },
    {
     "name": "stderr",
     "output_type": "stream",
     "text": [
      "100%|██████████████████████████████████████████████████████████████████████████████| 5891/5891 [06:05<00:00, 16.12it/s]\n",
      "100%|████████████████████████████████████████████████████████████████████████████| 5891/5891 [00:05<00:00, 1118.25it/s]\n",
      "100%|██████████████████████████████████████████████████████████████████████████████| 9617/9617 [06:03<00:00, 26.42it/s]\n"
     ]
    },
    {
     "name": "stdout",
     "output_type": "stream",
     "text": [
      "Modes Done\n",
      "D:/Hamed/Forschungsproject/Hancock 1/Tiles_0.9_256_176ov_all\\HNSCC ER 429 A\n",
      "Found a match!\n",
      "Found a match!\n",
      "Found a match!\n",
      "Found a match!\n",
      "Number of images = 7153\n",
      "width = 23012 height = 30092\n"
     ]
    },
    {
     "name": "stderr",
     "output_type": "stream",
     "text": [
      "100%|██████████████████████████████████████████████████████████████████████████████| 7153/7153 [11:25<00:00, 10.44it/s]\n",
      "100%|████████████████████████████████████████████████████████████████████████████| 7153/7153 [00:06<00:00, 1112.24it/s]\n",
      "100%|██████████████████████████████████████████████████████████████████████████████| 8257/8257 [06:00<00:00, 22.90it/s]\n"
     ]
    },
    {
     "name": "stdout",
     "output_type": "stream",
     "text": [
      "Modes Done\n",
      "D:/Hamed/Forschungsproject/Hancock 1/Tiles_0.9_256_176ov_all\\HNSCC ER 430 B\n",
      "Found a match!\n",
      "Found a match!\n",
      "Found a match!\n",
      "Found a match!\n",
      "Number of images = 2932\n",
      "width = 12391 height = 16816\n"
     ]
    },
    {
     "name": "stderr",
     "output_type": "stream",
     "text": [
      "100%|██████████████████████████████████████████████████████████████████████████████| 2932/2932 [04:13<00:00, 11.55it/s]\n",
      "100%|████████████████████████████████████████████████████████████████████████████| 2932/2932 [00:02<00:00, 1209.73it/s]\n",
      "100%|██████████████████████████████████████████████████████████████████████████████| 7056/7056 [04:14<00:00, 27.68it/s]\n"
     ]
    },
    {
     "name": "stdout",
     "output_type": "stream",
     "text": [
      "Modes Done\n",
      "D:/Hamed/Forschungsproject/Hancock 1/Tiles_0.9_256_176ov_all\\HNSCC ER 431 A\n",
      "Found a match!\n",
      "Found a match!\n",
      "Found a match!\n",
      "Found a match!\n",
      "Number of images = 25798\n",
      "width = 22126 height = 23012\n"
     ]
    },
    {
     "name": "stderr",
     "output_type": "stream",
     "text": [
      "100%|████████████████████████████████████████████████████████████████████████████| 25798/25798 [38:34<00:00, 11.14it/s]\n",
      "100%|██████████████████████████████████████████████████████████████████████████| 25798/25798 [00:22<00:00, 1126.75it/s]\n",
      "100%|████████████████████████████████████████████████████████████████████████████| 17456/17456 [23:24<00:00, 12.42it/s]\n"
     ]
    },
    {
     "name": "stdout",
     "output_type": "stream",
     "text": [
      "Modes Done\n",
      "D:/Hamed/Forschungsproject/Hancock 1/Tiles_0.9_256_176ov_all\\HNSCC ER 432 C\n",
      "Found a match!\n",
      "Found a match!\n",
      "Found a match!\n",
      "Found a match!\n",
      "Number of images = 2735\n",
      "width = 15931 height = 33632\n"
     ]
    },
    {
     "name": "stderr",
     "output_type": "stream",
     "text": [
      "100%|██████████████████████████████████████████████████████████████████████████████| 2735/2735 [03:11<00:00, 14.30it/s]\n",
      "100%|████████████████████████████████████████████████████████████████████████████| 2735/2735 [00:02<00:00, 1284.56it/s]\n",
      "100%|██████████████████████████████████████████████████████████████████████████████| 4816/4816 [02:52<00:00, 27.94it/s]\n"
     ]
    },
    {
     "name": "stdout",
     "output_type": "stream",
     "text": [
      "Modes Done\n",
      "D:/Hamed/Forschungsproject/Hancock 1/Tiles_0.9_256_176ov_all\\HNSCC ER 433 B\n",
      "Found a match!\n",
      "Found a match!\n",
      "Found a match!\n",
      "Found a match!\n",
      "Number of images = 18141\n",
      "width = 19471 height = 20356\n"
     ]
    },
    {
     "name": "stderr",
     "output_type": "stream",
     "text": [
      "100%|████████████████████████████████████████████████████████████████████████████| 18141/18141 [23:23<00:00, 12.92it/s]\n",
      "100%|██████████████████████████████████████████████████████████████████████████| 18141/18141 [00:15<00:00, 1196.03it/s]\n",
      "100%|████████████████████████████████████████████████████████████████████████████| 17776/17776 [16:45<00:00, 17.67it/s]\n"
     ]
    },
    {
     "name": "stdout",
     "output_type": "stream",
     "text": [
      "Modes Done\n",
      "D:/Hamed/Forschungsproject/Hancock 1/Tiles_0.9_256_176ov_all\\HNSCC ER 434 D\n",
      "Found a match!\n",
      "Found a match!\n",
      "Found a match!\n",
      "Found a match!\n",
      "Number of images = 40367\n",
      "width = 25667 height = 34518\n"
     ]
    },
    {
     "name": "stderr",
     "output_type": "stream",
     "text": [
      " 68%|███████████████████████████████████████████████████▎                        | 27256/40367 [41:37<10:43, 20.37it/s]"
     ]
    }
   ],
   "source": [
    "import time\n",
    "\n",
    "start_time = time.time()\n",
    "for slide_path in get_slide_path(data_dir):\n",
    "    \n",
    "    tiles = get_image_path(slide_path)\n",
    "    print('Number of images =', len(tiles))\n",
    "    height, width = get_dim(slide_path)\n",
    "    \n",
    "    height = int(height // 4.627844195912071)\n",
    "    width = int(width / 4.627844195912071)\n",
    "    print('width =', width, 'height =', height)\n",
    "\n",
    "    pred_normal16 = pred_images_overlap(tiles, batch_size=100, height=height, width=width, overlap=16, model=model_T16)\n",
    "    \n",
    "    modes = cal_mode(pred_normal16, height, width)\n",
    "    print('Modes Done')\n",
    "\n",
    "    print(slide_path)\n",
    "    test_qupath_annotation(qp, slide_path, modes, model='model_T16_Ov16')\n",
    "\n",
    "    for i in [15, 30, 50]:\n",
    "        kernel = cv2.getStructuringElement(cv2.MORPH_ELLIPSE, (i, i))\n",
    "\n",
    "        filtered = (modes == 1).astype(np.uint8)\n",
    "\n",
    "        filtered = cv2.erode(filtered, kernel, iterations=1)\n",
    "        filtered = cv2.dilate(filtered, kernel, iterations=1)\n",
    "        filtered = cv2.dilate(filtered, kernel, iterations=1)\n",
    "        filtered = cv2.erode(filtered, kernel, iterations=1)\n",
    "\n",
    "        test_qupath_annotation(qp, slide_path, filtered, model=f'model_T16_Ov16_K{i}')\n",
    "\n",
    "end_time = time.time()\n",
    "elapsed_time = end_time - start_time\n",
    "print(f\"Time taken for {slide_path}: {elapsed_time} seconds\\n\")\n"
   ]
  },
  {
   "cell_type": "code",
   "execution_count": 144,
   "id": "77e5b266-6d79-45f7-8391-044940cd9193",
   "metadata": {
    "tags": []
   },
   "outputs": [
    {
     "data": {
      "image/png": "[encoded data removed]",
      "text/plain": [
       "<Figure size 640x480 with 1 Axes>"
      ]
     },
     "metadata": {},
     "output_type": "display_data"
    }
   ],
   "source": [
    "# Specify the desired x-axis values\n",
    "x_values = [1, 4, 8, 16]\n",
    "\n",
    "plt.plot(x_values, ans, linestyle='-', marker='o', color='b')\n",
    "plt.ylabel('Straight Lines')\n",
    "plt.xlabel('Overlap')\n",
    "plt.xticks(x_values)\n",
    "plt.title('Overlap and Straight Lines Relationship')\n",
    "plt.grid(True)  # Add grid for better readability\n",
    "plt.savefig('overlap322')\n",
    "plt.show()"
   ]
  },
  {
   "cell_type": "code",
   "execution_count": 166,
   "id": "70636206-0771-485a-ab99-b4d8963d93df",
   "metadata": {
    "tags": []
   },
   "outputs": [
    {
     "data": {
      "text/plain": [
       "<matplotlib.image.AxesImage at 0x20986265340>"
      ]
     },
     "execution_count": 166,
     "metadata": {},
     "output_type": "execute_result"
    },
    {
     "data": {
      "image/png": "[encoded data removed]",
      "text/plain": [
       "<Figure size 640x480 with 1 Axes>"
      ]
     },
     "metadata": {},
     "output_type": "display_data"
    }
   ],
   "source": [
    "\n",
    "test = (modes == 1).astype(np.uint8)\n",
    "\n",
    "kernel = np.ones((65, 65), np.uint8)\n",
    "\n",
    "test = cv2.erode(test, kernel, iterations=1)\n",
    "test = cv2.dilate(test, kernel, iterations=1)\n",
    "test = cv2.dilate(test, kernel, iterations=1)\n",
    "test = cv2.erode(test, kernel, iterations=1)\n",
    "\n",
    "plt.imshow(test)"
   ]
  },
  {
   "cell_type": "code",
   "execution_count": 97,
   "id": "5c1dc084-b968-4af4-b693-815304109ea8",
   "metadata": {
    "tags": []
   },
   "outputs": [],
   "source": []
  }
 ],
 "metadata": {
  "kernelspec": {
   "display_name": "HUNet",
   "language": "python",
   "name": "hunet"
  },
  "language_info": {
   "codemirror_mode": {
    "name": "ipython",
    "version": 3
   },
   "file_extension": ".py",
   "mimetype": "text/x-python",
   "name": "python",
   "nbconvert_exporter": "python",
   "pygments_lexer": "ipython3",
   "version": "3.9.16"
  }
 },
 "nbformat": 4,
 "nbformat_minor": 5
}
