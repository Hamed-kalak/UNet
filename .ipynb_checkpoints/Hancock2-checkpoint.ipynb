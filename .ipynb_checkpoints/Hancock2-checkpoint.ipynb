{
 "cells": [
  {
   "cell_type": "code",
   "execution_count": 2,
   "id": "dde5b641-3174-4cdf-9469-c29a443a2314",
   "metadata": {
    "tags": []
   },
   "outputs": [],
   "source": [
    "# Implementing a U-net network on Bagls dataset.\n",
    "\n",
    "import os\n",
    "import numpy as np\n",
    "from PIL import Image\n",
    "import matplotlib.pyplot as plt\n",
    "from natsort import natsorted\n",
    "\n",
    "import keras\n",
    "from keras.models import *\n",
    "from keras.layers import *\n",
    "from keras.optimizers import *\n",
    "# from keras.callbacks import ModelCheckpoint, LearningRateScheduler\n",
    "# from keras import backend as keras\n",
    "# import tensorflow as tf\n",
    "import albumentations as A\n",
    "from PIL import Image\n",
    "from sklearn.model_selection import train_test_split\n"
   ]
  },
  {
   "cell_type": "code",
   "execution_count": 7,
   "id": "21d32937-94c0-4e73-b6e4-c2186f0b198e",
   "metadata": {
    "tags": []
   },
   "outputs": [],
   "source": [
    "In [1]: data_dir = 'D:/Hamed/Forschungsproject/Hancock 2/tiles3'\n",
    " \n",
    "x = []\n",
    "y = []\n",
    "\n",
    "for filename in natsorted(os.listdir(data_dir)):\n",
    "    if filename.endswith('].png'):\n",
    "        x.append(os.path.join(data_dir, filename))\n",
    "\n",
    "    if filename.endswith('labelled.png'):\n",
    "        y.append(os.path.join(data_dir, filename))\n",
    "\n",
    "X_train, X_test, Y_train, Y_test = train_test_split(x, y, test_size=0.01, random_state=42)\n",
    "X_train, X_val, Y_train, Y_val = train_test_split(X_train, Y_train, test_size=0.1, random_state=42)\n",
    "overfit_X_train , overtfit_Y_train = X_train[0:5] , Y_train[0:5]"
   ]
  },
  {
   "cell_type": "code",
   "execution_count": 8,
   "id": "ff7e50ff-4973-4375-aba9-939675dcead7",
   "metadata": {
    "tags": []
   },
   "outputs": [
    {
     "name": "stdout",
     "output_type": "stream",
     "text": [
      "Dataset Sizes:\n",
      "Training set: 5511 samples\n",
      "Validation set: 613 samples\n",
      "Test set: 62 samples\n"
     ]
    }
   ],
   "source": [
    "print(\"Dataset Sizes:\")\n",
    "print(f\"Training set: {len(X_train)} samples\")\n",
    "print(f\"Validation set: {len(X_val)} samples\")\n",
    "print(f\"Test set: {len(X_test)} samples\")\n"
   ]
  },
  {
   "cell_type": "code",
   "execution_count": 9,
   "id": "769905bd-facb-4df6-a517-1533f0674c5b",
   "metadata": {
    "tags": []
   },
   "outputs": [
    {
     "name": "stdout",
     "output_type": "stream",
     "text": [
      "(256, 256)\n"
     ]
    },
    {
     "data": {
      "text/plain": [
       "<matplotlib.image.AxesImage at 0x184bfcd9b50>"
      ]
     },
     "execution_count": 9,
     "metadata": {},
     "output_type": "execute_result"
    },
    {
     "data": {
      "image/png": "[encoded data removed]",
      "text/plain": [
       "<Figure size 640x480 with 1 Axes>"
      ]
     },
     "metadata": {},
     "output_type": "display_data"
    }
   ],
   "source": [
    "lbl_arr = Image.open(Y_train[np.random.randint(0,len(Y_train))])\n",
    "lbl_arr = lbl_arr.resize((256, 256))\n",
    "lbl_arr = np.array(lbl_arr)\n",
    "print(np.shape(lbl_arr))\n",
    "plt.imshow(lbl_arr)\n"
   ]
  },
  {
   "cell_type": "code",
   "execution_count": 10,
   "id": "4e083638-ad1a-4583-9a85-95221fc8f336",
   "metadata": {
    "tags": []
   },
   "outputs": [],
   "source": [
    "class DataGenerator(keras.utils.Sequence):\n",
    "    'Generates data for Keras'\n",
    "\n",
    "    def __init__(self, list_IDs, list_labels, batch_size=2, shuffle=True, aug=True):\n",
    "        'Initialization'\n",
    "        self.filter = A.Compose([\n",
    "            A.HorizontalFlip(p=0.2),\n",
    "            A.RandomBrightnessContrast(p=0.2),\n",
    "            A.VerticalFlip(p=0.2),\n",
    "            A.RandomRotate90(p=0.1)\n",
    "        ])\n",
    "        self.batch_size = batch_size\n",
    "        self.list_labels = list_labels\n",
    "        self.list_IDs = list_IDs\n",
    "        self.shuffle = shuffle\n",
    "        self.aug = aug\n",
    "        self.unique = np.arange(1, 13, 1)\n",
    "        self.on_epoch_end()\n",
    "\n",
    "    def __len__(self):\n",
    "        'Denotes the number of batches per epoch'\n",
    "        return int(np.floor(len(self.list_IDs) / self.batch_size))\n",
    "\n",
    "    def __getitem__(self, index):\n",
    "        'Generate one batch of data'\n",
    "        # Generate indexes of the batch\n",
    "        indexes = self.indexes[index * self.batch_size: (index + 1) * self.batch_size]\n",
    "\n",
    "        # Find list of IDs\n",
    "        list_IDs_paths = [self.list_IDs[k] for k in indexes]\n",
    "        list_label_paths = [self.list_labels[k] for k in indexes]\n",
    "\n",
    "        # Generate data\n",
    "        X, y = self.__data_generation(list_IDs_paths, list_label_paths)\n",
    "\n",
    "        return X, y\n",
    "\n",
    "    def on_epoch_end(self):\n",
    "        'Updates indexes after each epoch'\n",
    "        self.indexes = np.arange(len(self.list_IDs))\n",
    "        if self.shuffle:\n",
    "            np.random.shuffle(self.indexes)\n",
    "\n",
    "    def __data_generation(self, list_IDs_paths, list_label_paths):\n",
    "        'Generates data containing batch_size samples' # X: (n_samples, *dim, n_channels)\n",
    "        # Initialization\n",
    "        x_images = []\n",
    "        y_images = []\n",
    "\n",
    "        # Generate data\n",
    "        for i, (sample_path, label_path) in enumerate(zip(list_IDs_paths, list_label_paths)):\n",
    "            # Store sample\n",
    "            img_arr = Image.open(sample_path)\n",
    "            img_arr = img_arr.resize((256, 256))\n",
    "            img_arr = np.array(img_arr, dtype=np.float32)\n",
    "            img_arr = np.divide(img_arr, np.max(img_arr))  # normalize\n",
    "\n",
    "            # Store label\n",
    "            lbl_arr = Image.open(label_path)\n",
    "            lbl_arr = lbl_arr.resize((256, 256))\n",
    "            lbl_arr = np.array(lbl_arr)\n",
    "            channels = np.zeros((np.shape(lbl_arr)[0], np.shape(lbl_arr)[1], 12), dtype=np.float32)\n",
    "\n",
    "            bg = np.zeros((np.shape(lbl_arr)[0], np.shape(lbl_arr)[1]))\n",
    "\n",
    "            for i, value in enumerate(self.unique):\n",
    "                channels[:, :, i] = (lbl_arr == value).astype(np.uint8) * 255\n",
    "\n",
    "            bg = (lbl_arr == 0)\n",
    "            lbl_arr = channels\n",
    "\n",
    "            lbl_arr[lbl_arr < 1] = 0\n",
    "            lbl_arr[lbl_arr >= 1] = 1\n",
    "\n",
    "            if self.aug:\n",
    "                transformed = self.filter(image=img_arr, mask=lbl_arr)\n",
    "                x_images.append(transformed['image'])\n",
    "                y_images.append(transformed['mask'])\n",
    "            else:\n",
    "                x_images.append(img_arr)\n",
    "                y_images.append(lbl_arr)\n",
    "\n",
    "        # Stack x_images along a new axis\n",
    "        x_images = np.stack(x_images, axis=0)\n",
    "        y_images = np.stack(y_images, axis=0)\n",
    "\n",
    "        return x_images, y_images\n",
    "\n",
    "    def viz(self, x_images, y_images):\n",
    "        'Visualizes original and transformed images'\n",
    "        batch_size = len(x_images)\n",
    "        for dx in range(batch_size):\n",
    "            y_mask = y_images[dx]\n",
    "\n",
    "            # Display original and transformed images side by side\n",
    "            fig, axs = plt.subplots(1, 13, figsize=(20, 10))\n",
    "\n",
    "            axs[0].imshow(x_images[dx])\n",
    "            axs[0].set_title('img')\n",
    "            axs[0].axis('off')\n",
    "\n",
    "            for i in range(1, 13):\n",
    "                axs[i].imshow(y_mask[:, :, i - 1], cmap='gray')\n",
    "                axs[i].axis('off')  # Remove axes\n",
    "                axs[i].set_title(f'Class {i}')\n",
    "            plt.show()\n",
    "\n",
    "        print(f'Batch shape {np.shape(x_images)} and for masks {np.shape(y_images)}')\n",
    "        print(f'image shape {np.shape(x_images[dx])} and for masks {np.shape(y_images[dx])}')\n",
    "        print(f'max value for images is {np.max(x_images[dx])} and for masks {np.max(y_images[dx])}')\n",
    "        print(f'min value for images is {np.min(x_images[dx])} and for masks {np.min(y_images[dx])}')\n",
    "        print(f'number of unique values in images is {len(np.unique(x_images[dx]))} and for masks {np.unique(y_images[dx])}')\n"
   ]
  },
  {
   "cell_type": "code",
   "execution_count": 14,
   "id": "ae9ee858-fd7b-40de-ab0b-6801f77cd7a0",
   "metadata": {
    "tags": []
   },
   "outputs": [
    {
     "data": {
      "image/png": "[encoded data removed]",
      "text/plain": [
       "<Figure size 2000x1000 with 13 Axes>"
      ]
     },
     "metadata": {},
     "output_type": "display_data"
    },
    {
     "name": "stdout",
     "output_type": "stream",
     "text": [
      "Batch shape (1, 256, 256, 3) and for masks (1, 256, 256, 12)\n",
      "image shape (256, 256, 3) and for masks (256, 256, 12)\n",
      "max value for images is 1.0 and for masks 1.0\n",
      "min value for images is 0.007843137718737125 and for masks 0.0\n",
      "number of unique values in images is 252 and for masks [0. 1.]\n"
     ]
    }
   ],
   "source": [
    "test = DataGenerator(x,y,batch_size=1,aug=0)\n",
    "a,b = test.__getitem__(50)\n",
    "test.viz(a,b)"
   ]
  },
  {
   "cell_type": "code",
   "execution_count": 15,
   "id": "f5834c6a-3626-4bc6-9478-01762d17f453",
   "metadata": {
    "tags": []
   },
   "outputs": [],
   "source": [
    "\n",
    "fil = 32\n",
    "inputs = Input((256, 256,3))\n",
    "\n",
    "\n",
    "# Contractive\n",
    "conv1 = Conv2D(fil, 3, activation = 'relu', padding = 'same', kernel_initializer = 'he_normal')(inputs)\n",
    "conv1 = Conv2D(fil, 3, activation = 'relu', padding = 'same', kernel_initializer = 'he_normal')(conv1)\n",
    "conv1 = BatchNormalization()(conv1)\n",
    "pool1 = MaxPooling2D(pool_size=(2, 2))(conv1)\n",
    "\n",
    "conv2 = Conv2D(fil*2, 3, activation = 'relu', padding = 'same', kernel_initializer = 'he_normal')(pool1)\n",
    "conv2 = Conv2D(fil*2, 3, activation = 'relu', padding = 'same', kernel_initializer = 'he_normal')(conv2)\n",
    "conv2 = BatchNormalization()(conv2)\n",
    "pool2 = MaxPooling2D(pool_size=(2, 2))(conv2)\n",
    "\n",
    "conv3 = Conv2D(fil*4, 3, activation = 'relu', padding = 'same', kernel_initializer = 'he_normal')(pool2)\n",
    "conv3 = Conv2D(fil*4, 3, activation = 'relu', padding = 'same', kernel_initializer = 'he_normal')(conv3)\n",
    "conv3 = BatchNormalization()(conv3)\n",
    "pool3 = MaxPooling2D(pool_size=(2, 2))(conv3)\n",
    "\n",
    "conv4 = Conv2D(fil*8, 3, activation = 'relu', padding = 'same', kernel_initializer = 'he_normal')(pool3)\n",
    "conv4 = Conv2D(fil*8, 3, activation = 'relu', padding = 'same', kernel_initializer = 'he_normal')(conv4)\n",
    "conv4 = BatchNormalization()(conv4)\n",
    "pool4 = MaxPooling2D(pool_size=(2, 2))(conv4)\n",
    "\n",
    "conv5 = Conv2D(fil*16, 3, activation = 'relu', padding = 'same', kernel_initializer = 'he_normal')(pool4)\n",
    "conv5 = Conv2D(fil*16, 3, activation = 'relu', padding = 'same', kernel_initializer = 'he_normal')(conv5)\n",
    "conv5 = BatchNormalization()(conv5)\n",
    "\n",
    "# Expansive\n",
    "upconv1 = Conv2D(fil*8, 2, activation = 'relu', padding = 'same', kernel_initializer = 'he_normal')(conv5)\n",
    "up6 = UpSampling2D(size = (2,2))(upconv1)\n",
    "merge6 = concatenate([conv4,up6], axis = 3)\n",
    "conv6 = Conv2D(fil*8, 3, activation = 'relu', padding = 'same', kernel_initializer = 'he_normal')(merge6)\n",
    "conv6 = Conv2D(fil*8, 3, activation = 'relu', padding = 'same', kernel_initializer = 'he_normal')(conv6)\n",
    "conv6 = BatchNormalization()(conv6)\n",
    "\n",
    "upconv2 = Conv2D(fil*8, 2, activation = 'relu', padding = 'same', kernel_initializer = 'he_normal')(conv6)\n",
    "up7 = UpSampling2D(size = (2,2))(upconv2)\n",
    "merge7 = concatenate([conv3,up7], axis = 3)\n",
    "conv7 = Conv2D(fil*4, 3, activation = 'relu', padding = 'same', kernel_initializer = 'he_normal')(merge7)\n",
    "conv7 = Conv2D(fil*4, 3, activation = 'relu', padding = 'same', kernel_initializer = 'he_normal')(conv7)\n",
    "conv7 = BatchNormalization()(conv7)\n",
    "\n",
    "upconv3 = Conv2D(128, 2, activation = 'relu', padding = 'same', kernel_initializer = 'he_normal')(conv7)\n",
    "up8 = UpSampling2D(size = (2,2))(upconv3)\n",
    "merge8 = concatenate([conv2,up8], axis = 3)\n",
    "conv8 = Conv2D(fil*2, 3, activation = 'relu', padding = 'same', kernel_initializer = 'he_normal')(merge8)\n",
    "conv8 = Conv2D(fil*2, 3, activation = 'relu', padding = 'same', kernel_initializer = 'he_normal')(conv8)\n",
    "conv8 = BatchNormalization()(conv8)\n",
    "\n",
    "\n",
    "upconv4 = Conv2D(fil*2, 2, activation = 'relu', padding = 'same', kernel_initializer = 'he_normal')(conv8)\n",
    "up9 = UpSampling2D(size = (2,2))(upconv4)\n",
    "merge9 = concatenate([conv1,up9], axis = 3)\n",
    "conv9 = Conv2D(fil, 3, activation = 'relu', padding = 'same', kernel_initializer = 'he_normal')(merge9)\n",
    "conv9 = Conv2D(fil, 3, activation = 'relu', padding = 'same', kernel_initializer = 'he_normal')(conv9)\n",
    "conv9 = BatchNormalization()(conv9)\n",
    "\n",
    "\n",
    "conv10 = Conv2D(12, 1, activation = 'softmax')(conv9)\n",
    "\n",
    "model = Model(inputs = inputs, outputs = conv10)\n",
    "\n",
    "#model.summary()\n",
    "\n",
    "\n"
   ]
  },
  {
   "cell_type": "code",
   "execution_count": 18,
   "id": "b3566220-80b7-445b-8ef7-21bfb1df302e",
   "metadata": {},
   "outputs": [
    {
     "name": "stdout",
     "output_type": "stream",
     "text": [
      "Segmentation Models: using `keras` framework.\n"
     ]
    }
   ],
   "source": [
    "from keras.callbacks import EarlyStopping\n",
    "\n",
    "earlystop_callback = EarlyStopping(\n",
    "    monitor='loss', \n",
    "    min_delta=0.0001,\n",
    "    patience=5,\n",
    "    verbose=1, \n",
    "    mode='auto' \n",
    ")\n",
    "\n",
    "from segmentation_models.losses import DiceLoss\n",
    "from segmentation_models.metrics import IOUScore\n",
    "\n",
    "loss = DiceLoss()\n",
    "metric = IOUScore()\n",
    "\n",
    "def custom_loss(y_true, y_pred):\n",
    "    y_true_exclude_first = y_true[:, :, :, 1:]\n",
    "    y_pred_exclude_first = y_pred[:, :, :, 1:]\n",
    "    return loss(y_true_exclude_first, y_pred_exclude_first)\n",
    "\n",
    "# Define custom metric excluding the first channel\n",
    "def custom_metric(y_true, y_pred):\n",
    "    y_true_exclude_first = y_true[:, :, :, 1:]\n",
    "    y_pred_exclude_first = y_pred[:, :, :, 1:]\n",
    "    return metric(y_true_exclude_first, y_pred_exclude_first)\n"
   ]
  },
  {
   "cell_type": "code",
   "execution_count": 16,
   "id": "31057d84-1831-430e-8724-2232b98b3a04",
   "metadata": {
    "tags": []
   },
   "outputs": [
    {
     "name": "stdout",
     "output_type": "stream",
     "text": [
      "Segmentation Models: using `keras` framework.\n"
     ]
    }
   ],
   "source": [
    "from segmentation_models.losses import DiceLoss\n",
    "from segmentation_models.metrics import IOUScore\n",
    "\n",
    "DiceLoss = DiceLoss()\n",
    "IOUscore = IOUScore()"
   ]
  },
  {
   "cell_type": "code",
   "execution_count": null,
   "id": "fd2b455b-3de3-40a7-be59-b2125ef49d1e",
   "metadata": {
    "tags": []
   },
   "outputs": [
    {
     "name": "stdout",
     "output_type": "stream",
     "text": [
      "Epoch 1/100\n",
      "  7/172 [>.............................] - ETA: 1:26 - loss: 0.9593 - iou_score: 0.0229"
     ]
    }
   ],
   "source": [
    "model.compile(optimizer=Adam(learning_rate=0.1,),\n",
    "              loss=DiceLoss,\n",
    "              metrics=[IOUscore])\n",
    "\n",
    "history = model.fit(DataGenerator(X_train, Y_train, batch_size=32),\n",
    "                    epochs=100,\n",
    "                    #callbacks=earlystop_callback,\n",
    "                    validation_data=DataGenerator(X_val, Y_val, batch_size=32))\n"
   ]
  },
  {
   "cell_type": "code",
   "execution_count": null,
   "id": "c59ac57b-c70c-4eec-8654-88156b471dcf",
   "metadata": {},
   "outputs": [],
   "source": [
    "of = DataGenerator(overfit_X_train, overtfit_Y_train, batch_size=3, aug=True)\n",
    "ofx, ofy = of.__getitem__(0)\n",
    "of.viz(ofx, ofy)"
   ]
  },
  {
   "cell_type": "code",
   "execution_count": 104,
   "id": "eba1df45-98ff-434f-8d94-525ba1db532b",
   "metadata": {},
   "outputs": [
    {
     "name": "stdout",
     "output_type": "stream",
     "text": [
      "Epoch 1/30\n",
      "1/1 [==============================] - 1s 1s/step - loss: 0.9887 - custom_metric: 0.0061\n",
      "Epoch 2/30\n",
      "1/1 [==============================] - 0s 27ms/step - loss: 0.9867 - custom_metric: 0.0072\n",
      "Epoch 3/30\n",
      "1/1 [==============================] - 0s 32ms/step - loss: 0.9856 - custom_metric: 0.0079\n",
      "Epoch 4/30\n",
      "1/1 [==============================] - 0s 29ms/step - loss: 0.9849 - custom_metric: 0.0083\n",
      "Epoch 5/30\n",
      "1/1 [==============================] - 0s 36ms/step - loss: 0.9842 - custom_metric: 0.0087\n",
      "Epoch 6/30\n",
      "1/1 [==============================] - 0s 40ms/step - loss: 0.9835 - custom_metric: 0.0092\n",
      "Epoch 7/30\n",
      "1/1 [==============================] - 0s 44ms/step - loss: 0.9829 - custom_metric: 0.0095\n",
      "Epoch 8/30\n",
      "1/1 [==============================] - 0s 42ms/step - loss: 0.9824 - custom_metric: 0.0098\n",
      "Epoch 9/30\n",
      "1/1 [==============================] - 0s 41ms/step - loss: 0.9820 - custom_metric: 0.0101\n",
      "Epoch 10/30\n",
      "1/1 [==============================] - 0s 27ms/step - loss: 0.9816 - custom_metric: 0.0103\n",
      "Epoch 11/30\n",
      "1/1 [==============================] - 0s 29ms/step - loss: 0.9812 - custom_metric: 0.0106\n",
      "Epoch 12/30\n",
      "1/1 [==============================] - 0s 17ms/step - loss: 0.9809 - custom_metric: 0.0108\n",
      "Epoch 13/30\n",
      "1/1 [==============================] - 0s 19ms/step - loss: 0.9807 - custom_metric: 0.0109\n",
      "Epoch 14/30\n",
      "1/1 [==============================] - 0s 21ms/step - loss: 0.9806 - custom_metric: 0.0110\n",
      "Epoch 15/30\n",
      "1/1 [==============================] - 0s 33ms/step - loss: 0.9804 - custom_metric: 0.0111\n",
      "Epoch 16/30\n",
      "1/1 [==============================] - 0s 35ms/step - loss: 0.9802 - custom_metric: 0.0112\n",
      "Epoch 17/30\n",
      "1/1 [==============================] - 0s 36ms/step - loss: 0.9800 - custom_metric: 0.0114\n",
      "Epoch 18/30\n",
      "1/1 [==============================] - 0s 36ms/step - loss: 0.9798 - custom_metric: 0.0115\n",
      "Epoch 19/30\n",
      "1/1 [==============================] - 0s 34ms/step - loss: 0.9797 - custom_metric: 0.0116\n",
      "Epoch 20/30\n",
      "1/1 [==============================] - 0s 37ms/step - loss: 0.9795 - custom_metric: 0.0117\n",
      "Epoch 21/30\n",
      "1/1 [==============================] - 0s 26ms/step - loss: 0.9794 - custom_metric: 0.0117\n",
      "Epoch 22/30\n",
      "1/1 [==============================] - 0s 38ms/step - loss: 0.9793 - custom_metric: 0.0118\n",
      "Epoch 23/30\n",
      "1/1 [==============================] - 0s 33ms/step - loss: 0.9791 - custom_metric: 0.0119\n",
      "Epoch 24/30\n",
      "1/1 [==============================] - 0s 42ms/step - loss: 0.9790 - custom_metric: 0.0120\n",
      "Epoch 25/30\n",
      "1/1 [==============================] - 0s 41ms/step - loss: 0.9789 - custom_metric: 0.0121\n",
      "Epoch 26/30\n",
      "1/1 [==============================] - 0s 32ms/step - loss: 0.9787 - custom_metric: 0.0122\n",
      "Epoch 27/30\n",
      "1/1 [==============================] - 0s 41ms/step - loss: 0.9786 - custom_metric: 0.0123\n",
      "Epoch 28/30\n",
      "1/1 [==============================] - 0s 39ms/step - loss: 0.9785 - custom_metric: 0.0124\n",
      "Epoch 29/30\n",
      "1/1 [==============================] - 0s 38ms/step - loss: 0.9783 - custom_metric: 0.0124\n",
      "Epoch 30/30\n",
      "1/1 [==============================] - 0s 37ms/step - loss: 0.9782 - custom_metric: 0.0125\n"
     ]
    }
   ],
   "source": [
    "# overfitting\n",
    "from tensorflow_addons.optimizers import AdamW\n",
    "\n",
    "model.compile(optimizer=Adam(learning_rate=0.1), loss=DiceLoss, metrics=[IOUscore])\n",
    "\n",
    "history = model.fit(ofx, ofy, epochs=300)\n"
   ]
  },
  {
   "cell_type": "code",
   "execution_count": 109,
   "id": "15e9531b-1798-4092-8802-b40c2d7b07d9",
   "metadata": {
    "tags": []
   },
   "outputs": [
    {
     "data": {
      "image/png": "[encoded data removed]",
      "text/plain": [
       "<Figure size 640x480 with 1 Axes>"
      ]
     },
     "metadata": {},
     "output_type": "display_data"
    }
   ],
   "source": [
    "#how was the network on each epoch?\n",
    "\n",
    "plt.plot(history.history['loss'])\n",
    "plt.title('Model iou_score')\n",
    "plt.ylabel('loss')\n",
    "plt.xlabel('Epoch')\n",
    "plt.legend(['Train'], loc='upper right')\n",
    "plt.show()"
   ]
  },
  {
   "cell_type": "code",
   "execution_count": 111,
   "id": "afa64e9e-fe1c-476c-884c-ee08365fb2e9",
   "metadata": {
    "tags": []
   },
   "outputs": [
    {
     "name": "stdout",
     "output_type": "stream",
     "text": [
      "1/1 [==============================] - 0s 54ms/step - loss: 0.9727 - custom_metric: 0.0145\n"
     ]
    }
   ],
   "source": [
    "DataGen = DataGenerator(X_test, Y_test, batch_size=len(X_test),aug=True)\n",
    "a, b =DataGen.__getitem__(0)\n",
    "score = model.evaluate(a,b)\n"
   ]
  },
  {
   "cell_type": "code",
   "execution_count": null,
   "id": "702ef42c-2360-4420-815c-318b4650f9ab",
   "metadata": {
    "tags": []
   },
   "outputs": [],
   "source": []
  },
  {
   "cell_type": "code",
   "execution_count": 20,
   "id": "cafc6846-fdcd-4a64-b853-17e83b678a7f",
   "metadata": {
    "tags": []
   },
   "outputs": [
    {
     "ename": "RuntimeError",
     "evalue": "You must compile your model before training/testing. Use `model.compile(optimizer, loss)`.",
     "output_type": "error",
     "traceback": [
      "\u001b[1;31m---------------------------------------------------------------------------\u001b[0m",
      "\u001b[1;31mRuntimeError\u001b[0m                              Traceback (most recent call last)",
      "Cell \u001b[1;32mIn[20], line 4\u001b[0m\n\u001b[0;32m      2\u001b[0m DataGen \u001b[38;5;241m=\u001b[39m DataGenerator(X_test, Y_test, batch_size\u001b[38;5;241m=\u001b[39m\u001b[38;5;241m1\u001b[39m, aug\u001b[38;5;241m=\u001b[39m\u001b[38;5;28;01mTrue\u001b[39;00m)\n\u001b[0;32m      3\u001b[0m img, mask \u001b[38;5;241m=\u001b[39m DataGen\u001b[38;5;241m.\u001b[39m\u001b[38;5;21m__getitem__\u001b[39m(\u001b[38;5;241m0\u001b[39m)\n\u001b[1;32m----> 4\u001b[0m score \u001b[38;5;241m=\u001b[39m \u001b[43mmodel\u001b[49m\u001b[38;5;241;43m.\u001b[39;49m\u001b[43mevaluate\u001b[49m\u001b[43m(\u001b[49m\u001b[43mimg\u001b[49m\u001b[43m,\u001b[49m\u001b[43m \u001b[49m\u001b[43mmask\u001b[49m\u001b[43m)\u001b[49m\n\u001b[0;32m      5\u001b[0m y_pred \u001b[38;5;241m=\u001b[39m model\u001b[38;5;241m.\u001b[39mpredict(img)\n\u001b[0;32m      7\u001b[0m \u001b[38;5;66;03m# Create a figure with three subplots arranged horizontally\u001b[39;00m\n",
      "File \u001b[1;32m~\\.conda\\envs\\HUNet\\lib\\site-packages\\keras\\utils\\traceback_utils.py:67\u001b[0m, in \u001b[0;36mfilter_traceback.<locals>.error_handler\u001b[1;34m(*args, **kwargs)\u001b[0m\n\u001b[0;32m     65\u001b[0m \u001b[38;5;28;01mexcept\u001b[39;00m \u001b[38;5;167;01mException\u001b[39;00m \u001b[38;5;28;01mas\u001b[39;00m e:  \u001b[38;5;66;03m# pylint: disable=broad-except\u001b[39;00m\n\u001b[0;32m     66\u001b[0m   filtered_tb \u001b[38;5;241m=\u001b[39m _process_traceback_frames(e\u001b[38;5;241m.\u001b[39m__traceback__)\n\u001b[1;32m---> 67\u001b[0m   \u001b[38;5;28;01mraise\u001b[39;00m e\u001b[38;5;241m.\u001b[39mwith_traceback(filtered_tb) \u001b[38;5;28;01mfrom\u001b[39;00m \u001b[38;5;28mNone\u001b[39m\n\u001b[0;32m     68\u001b[0m \u001b[38;5;28;01mfinally\u001b[39;00m:\n\u001b[0;32m     69\u001b[0m   \u001b[38;5;28;01mdel\u001b[39;00m filtered_tb\n",
      "File \u001b[1;32m~\\.conda\\envs\\HUNet\\lib\\site-packages\\keras\\engine\\training.py:3160\u001b[0m, in \u001b[0;36mModel._assert_compile_was_called\u001b[1;34m(self)\u001b[0m\n\u001b[0;32m   3154\u001b[0m \u001b[38;5;28;01mdef\u001b[39;00m \u001b[38;5;21m_assert_compile_was_called\u001b[39m(\u001b[38;5;28mself\u001b[39m):\n\u001b[0;32m   3155\u001b[0m   \u001b[38;5;66;03m# Checks whether `compile` has been called. If it has been called,\u001b[39;00m\n\u001b[0;32m   3156\u001b[0m   \u001b[38;5;66;03m# then the optimizer is set. This is different from whether the\u001b[39;00m\n\u001b[0;32m   3157\u001b[0m   \u001b[38;5;66;03m# model is compiled\u001b[39;00m\n\u001b[0;32m   3158\u001b[0m   \u001b[38;5;66;03m# (i.e. whether the model is built and its inputs/outputs are set).\u001b[39;00m\n\u001b[0;32m   3159\u001b[0m   \u001b[38;5;28;01mif\u001b[39;00m \u001b[38;5;129;01mnot\u001b[39;00m \u001b[38;5;28mself\u001b[39m\u001b[38;5;241m.\u001b[39m_is_compiled:\n\u001b[1;32m-> 3160\u001b[0m     \u001b[38;5;28;01mraise\u001b[39;00m \u001b[38;5;167;01mRuntimeError\u001b[39;00m(\u001b[38;5;124m'\u001b[39m\u001b[38;5;124mYou must compile your model before \u001b[39m\u001b[38;5;124m'\u001b[39m\n\u001b[0;32m   3161\u001b[0m                        \u001b[38;5;124m'\u001b[39m\u001b[38;5;124mtraining/testing. \u001b[39m\u001b[38;5;124m'\u001b[39m\n\u001b[0;32m   3162\u001b[0m                        \u001b[38;5;124m'\u001b[39m\u001b[38;5;124mUse `model.compile(optimizer, loss)`.\u001b[39m\u001b[38;5;124m'\u001b[39m)\n",
      "\u001b[1;31mRuntimeError\u001b[0m: You must compile your model before training/testing. Use `model.compile(optimizer, loss)`."
     ]
    }
   ],
   "source": [
    "# Normal\n",
    "DataGen = DataGenerator(X_test, Y_test, batch_size=1, aug=True)\n",
    "img, mask = DataGen.__getitem__(0)\n",
    "score = model.evaluate(img, mask)\n",
    "y_pred = model.predict(img)\n",
    "\n",
    "# Create a figure with three subplots arranged horizontally\n",
    "fig, axs = plt.subplots(1, 2, figsize=(10, 5))\n",
    "\n",
    "# Plot the input image in the first subplot\n",
    "axs[0].imshow(img[0])\n",
    "axs[0].set_title('Input image')\n",
    "\n",
    "# Create an empty array to store the changed image\n",
    "changed_img = np.zeros((12, 256, 256, 1), dtype=np.uint8)\n",
    "\n",
    "# Iterate over the channels and assign values accordingly\n",
    "for i in range(12):\n",
    "    temp = (mask[:, :, :, i] == 1.).astype(np.uint8)\n",
    "    changed_img[:, :, :, 0] += temp * (i + 1)\n",
    "\n",
    "\n",
    "# Plot the ground truth output in the second subplot\n",
    "im = axs[1].imshow(np.sum(mask[0], axis=2))\n",
    "axs[1].set_title('Ground truth output')\n",
    "plt.colorbar(im, ax=axs[1])\n",
    "\n",
    "##################################\n",
    "\n",
    "# Create the subplots\n",
    "fig, axs = plt.subplots(1, 12, figsize=(15, 5))\n",
    "\n",
    "# Loop through each subplot\n",
    "for i, ax in enumerate(axs.flat):\n",
    "    ax.imshow(mask[0][:, :, i])\n",
    "    ax.axis('off')\n",
    "    ans = np.mean(mask[0][:, :, i])\n",
    "    ax.set_title(f'p(y{i+1}) = {ans:.2f}', fontsize=8)\n",
    "\n",
    "plt.show()\n",
    "\n",
    "###########################################\n",
    "\n",
    "# Create the subplots\n",
    "fig, axs = plt.subplots(1, 12, figsize=(15, 5))\n",
    "\n",
    "# Loop through each subplot\n",
    "for i, ax in enumerate(axs.flat):\n",
    "    ax.imshow(y_pred[0][:, :, i])\n",
    "    ax.axis('off')\n",
    "    ans = np.mean(y_pred[0][:, :, i])\n",
    "    ax.set_title(f'p(y{i+1}) = {ans:.2f}', fontsize=8)\n",
    "\n",
    "plt.show()\n"
   ]
  },
  {
   "cell_type": "code",
   "execution_count": null,
   "id": "e9830ed3-956b-466f-beec-934efc5c53b3",
   "metadata": {
    "tags": []
   },
   "outputs": [],
   "source": [
    "In [1]: # Over fitted\n",
    "   ...: \n",
    "   ...: \n",
    "   ...: j = 2\n",
    "   ...: y_pred = model.predict(ofx[j:j+1])\n",
    "   ...: img = ofx[j:j+1]\n",
    "   ...: mask = ofy[j:j+1]\n",
    "   ...: \n",
    "   ...: # Create a figure with three subplots arranged horizontally\n",
    "   ...: fig, axs = plt.subplots(1, 2, figsize=(10, 5))\n",
    "   ...: \n",
    "   ...: # Plot the input image in the first subplot\n",
    "   ...: axs[0].imshow(img[0])\n",
    "   ...: axs[0].set_title('Input image')\n",
    "   ...: \n",
    "   ...: # Create an empty array to store the changed image\n",
    "   ...: changed_img = np.zeros((12, 256, 256, 1), dtype=np.uint8)\n",
    "   ...: \n",
    "   ...: # Iterate over the channels and assign values accordingly\n",
    "   ...: for i in range(12):\n",
    "   ...:     temp = (mask[:,:, :, i] == 1.).astype(np.uint8)\n",
    "   ...:     changed_img[:, :, :, 0] += temp * (i + 1)\n",
    "   ...: \n",
    "   ...: \n",
    "   ...: # Plot the ground truth output in the second subplot\n",
    "   ...: axs[1].imshow(np.sum(mask[0],axis=2))\n",
    "   ...: axs[1].set_title('Ground truth output')\n",
    "   ...: \n",
    "   ...: ##################################\n",
    "   ...: # Create the subplots\n",
    "   ...: fig, axs = plt.subplots(1, 12,figsize=(15, 5))\n",
    "   ...: \n",
    "   ...: # Loop through each subplot\n",
    "   ...: for i, ax in enumerate(axs.flat):\n",
    "   ...:     ax.imshow(mask[0][:, :, i])\n",
    "   ...:     ax.axis('off')\n",
    "   ...:     ans = np.mean(mask[0][:, :, i])\n",
    "   ...:     ax.set_title(f'p(y{i+1}) = {ans:.2f}', fontsize=8)\n",
    "   ...: \n",
    "   ...: plt.show()\n",
    "   ...: \n",
    "   ...: ###########################################\n",
    "   ...: # Create the subplots\n",
    "   ...: fig, axs = plt.subplots(1, 12,figsize=(15, 5))\n",
    "   ...: \n",
    "   ...: # Loop through each subplot\n",
    "   ...: for i, ax in enumerate(axs.flat):\n",
    "   ...:     ax.imshow(y_pred[0][:, :, i])\n",
    "   ...:     ax.axis('off')\n",
    "   ...:     ans = np.mean(y_pred[0][:, :, i])\n",
    "   ...:     ax.set_title(f'p(y{i+1}) = {ans:.2f}', fontsize=8)\n",
    "   ...: \n",
    "   ...: plt.show()"
   ]
  },
  {
   "cell_type": "code",
   "execution_count": null,
   "id": "36438052-136a-458a-80e7-3c667831b1d0",
   "metadata": {},
   "outputs": [],
   "source": []
  }
 ],
 "metadata": {
  "kernelspec": {
   "display_name": "HUNet",
   "language": "python",
   "name": "hunet"
  },
  "language_info": {
   "codemirror_mode": {
    "name": "ipython",
    "version": 3
   },
   "file_extension": ".py",
   "mimetype": "text/x-python",
   "name": "python",
   "nbconvert_exporter": "python",
   "pygments_lexer": "ipython3",
   "version": "3.9.16"
  }
 },
 "nbformat": 4,
 "nbformat_minor": 5
}
