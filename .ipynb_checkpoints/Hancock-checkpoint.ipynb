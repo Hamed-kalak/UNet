{
 "cells": [
  {
   "cell_type": "code",
   "execution_count": 1,
   "id": "dde5b641-3174-4cdf-9469-c29a443a2314",
   "metadata": {
    "tags": []
   },
   "outputs": [],
   "source": [
    "# Implementing a U-net network on Bagls dataset.\n",
    "\n",
    "import os\n",
    "import numpy as np\n",
    "from PIL import Image\n",
    "import matplotlib.pyplot as plt\n",
    "from natsort import natsorted\n",
    "\n",
    "import keras\n",
    "from keras.models import *\n",
    "from keras.layers import *\n",
    "from keras.optimizers import *\n",
    "# from keras.callbacks import ModelCheckpoint, LearningRateScheduler\n",
    "# from keras import backend as keras\n",
    "# import tensorflow as tf\n",
    "import albumentations as A\n",
    "from PIL import Image\n",
    "from sklearn.model_selection import train_test_split\n"
   ]
  },
  {
   "cell_type": "code",
   "execution_count": 6,
   "id": "21d32937-94c0-4e73-b6e4-c2186f0b198e",
   "metadata": {
    "tags": []
   },
   "outputs": [],
   "source": [
    "In [1]: data_dir = 'D:/Hamed/Forschungsproject/Hancock 2/tiles3'\n",
    " \n",
    "x = []\n",
    "y = []\n",
    "\n",
    "for filename in natsorted(os.listdir(data_dir)):\n",
    "    if filename.endswith('].png'):\n",
    "        x.append(os.path.join(data_dir, filename))\n",
    "\n",
    "    if filename.endswith('labelled.png'):\n",
    "        y.append(os.path.join(data_dir, filename))\n",
    "\n",
    "X_train, X_test, Y_train, Y_test = train_test_split(x, y, test_size=0.01, random_state=42)\n",
    "X_train, X_val, Y_train, Y_val = train_test_split(X_train, Y_train, test_size=0.1, random_state=42)\n",
    "overfit_X_train , overtfit_Y_train = X_train[0:5] , Y_train[0:5]"
   ]
  },
  {
   "cell_type": "code",
   "execution_count": 7,
   "id": "ff7e50ff-4973-4375-aba9-939675dcead7",
   "metadata": {
    "tags": []
   },
   "outputs": [
    {
     "name": "stdout",
     "output_type": "stream",
     "text": [
      "Dataset Sizes:\n",
      "Training set: 5511 samples\n",
      "Validation set: 613 samples\n",
      "Test set: 62 samples\n"
     ]
    }
   ],
   "source": [
    "print(\"Dataset Sizes:\")\n",
    "print(f\"Training set: {len(X_train)} samples\")\n",
    "print(f\"Validation set: {len(X_val)} samples\")\n",
    "print(f\"Test set: {len(X_test)} samples\")\n"
   ]
  },
  {
   "cell_type": "code",
   "execution_count": 22,
   "id": "769905bd-facb-4df6-a517-1533f0674c5b",
   "metadata": {
    "tags": []
   },
   "outputs": [
    {
     "name": "stdout",
     "output_type": "stream",
     "text": [
      "(256, 256)\n"
     ]
    },
    {
     "data": {
      "text/plain": [
       "<matplotlib.image.AxesImage at 0x1dade403220>"
      ]
     },
     "execution_count": 22,
     "metadata": {},
     "output_type": "execute_result"
    },
    {
     "data": {
      "image/png": "[encoded data removed]",
      "text/plain": [
       "<Figure size 640x480 with 1 Axes>"
      ]
     },
     "metadata": {},
     "output_type": "display_data"
    }
   ],
   "source": [
    "lbl_arr = Image.open(Y_train[np.random.randint(0,len(Y_train))])\n",
    "lbl_arr = lbl_arr.resize((256, 256))\n",
    "lbl_arr = np.array(lbl_arr)\n",
    "print(np.shape(lbl_arr))\n",
    "plt.imshow(lbl_arr)\n"
   ]
  },
  {
   "cell_type": "code",
   "execution_count": 23,
   "id": "4e083638-ad1a-4583-9a85-95221fc8f336",
   "metadata": {
    "tags": []
   },
   "outputs": [],
   "source": [
    "class DataGenerator(keras.utils.Sequence):\n",
    "    'Generates data for Keras'\n",
    "\n",
    "    def __init__(self, list_IDs, list_labels, batch_size=2, shuffle=True, aug=True):\n",
    "        'Initialization'\n",
    "        self.filter = A.Compose([\n",
    "            A.HorizontalFlip(p=0.2),\n",
    "            A.RandomBrightnessContrast(p=0.2),\n",
    "            A.VerticalFlip(p=0.2),\n",
    "            A.RandomRotate90(p=0.1)\n",
    "        ])\n",
    "        self.batch_size = batch_size\n",
    "        self.list_labels = list_labels\n",
    "        self.list_IDs = list_IDs\n",
    "        self.shuffle = shuffle\n",
    "        self.aug = aug\n",
    "        self.unique = np.arange(1, 13, 1)\n",
    "        self.on_epoch_end()\n",
    "\n",
    "    def __len__(self):\n",
    "        'Denotes the number of batches per epoch'\n",
    "        return int(np.floor(len(self.list_IDs) / self.batch_size))\n",
    "\n",
    "    def __getitem__(self, index):\n",
    "        'Generate one batch of data'\n",
    "        # Generate indexes of the batch\n",
    "        indexes = self.indexes[index * self.batch_size: (index + 1) * self.batch_size]\n",
    "\n",
    "        # Find list of IDs\n",
    "        list_IDs_paths = [self.list_IDs[k] for k in indexes]\n",
    "        list_label_paths = [self.list_labels[k] for k in indexes]\n",
    "\n",
    "        # Generate data\n",
    "        X, y = self.__data_generation(list_IDs_paths, list_label_paths)\n",
    "\n",
    "        return X, y\n",
    "\n",
    "    def on_epoch_end(self):\n",
    "        'Updates indexes after each epoch'\n",
    "        self.indexes = np.arange(len(self.list_IDs))\n",
    "        if self.shuffle:\n",
    "            np.random.shuffle(self.indexes)\n",
    "\n",
    "    def __data_generation(self, list_IDs_paths, list_label_paths):\n",
    "        'Generates data containing batch_size samples' # X: (n_samples, *dim, n_channels)\n",
    "        # Initialization\n",
    "        x_images = []\n",
    "        y_images = []\n",
    "\n",
    "        # Generate data\n",
    "        for i, (sample_path, label_path) in enumerate(zip(list_IDs_paths, list_label_paths)):\n",
    "            # Store sample\n",
    "            img_arr = Image.open(sample_path)\n",
    "            img_arr = img_arr.resize((256, 256))\n",
    "            img_arr = np.array(img_arr, dtype=np.float32)\n",
    "            img_arr = np.divide(img_arr, np.max(img_arr))  # normalize\n",
    "\n",
    "            # Store label\n",
    "            lbl_arr = Image.open(label_path)\n",
    "            lbl_arr = lbl_arr.resize((256, 256))\n",
    "            lbl_arr = np.array(lbl_arr)\n",
    "            channels = np.zeros((np.shape(lbl_arr)[0], np.shape(lbl_arr)[1], 12), dtype=np.float32)\n",
    "\n",
    "            bg = np.zeros((np.shape(lbl_arr)[0], np.shape(lbl_arr)[1]))\n",
    "\n",
    "            for i, value in enumerate(self.unique):\n",
    "                channels[:, :, i] = (lbl_arr == value).astype(np.uint8) * 255\n",
    "\n",
    "            bg = (lbl_arr == 0)\n",
    "            lbl_arr = channels\n",
    "\n",
    "            lbl_arr[lbl_arr < 1] = 0\n",
    "            lbl_arr[lbl_arr >= 1] = 1\n",
    "\n",
    "            if self.aug:\n",
    "                transformed = self.filter(image=img_arr, mask=lbl_arr)\n",
    "                x_images.append(transformed['image'])\n",
    "                y_images.append(transformed['mask'])\n",
    "            else:\n",
    "                x_images.append(img_arr)\n",
    "                y_images.append(lbl_arr)\n",
    "\n",
    "        # Stack x_images along a new axis\n",
    "        x_images = np.stack(x_images, axis=0)\n",
    "        y_images = np.stack(y_images, axis=0)\n",
    "\n",
    "        return x_images, y_images\n",
    "\n",
    "    def viz(self, x_images, y_images):\n",
    "        'Visualizes original and transformed images'\n",
    "        batch_size = len(x_images)\n",
    "        for dx in range(batch_size):\n",
    "            y_mask = y_images[dx]\n",
    "\n",
    "            # Display original and transformed images side by side\n",
    "            fig, axs = plt.subplots(1, 13, figsize=(20, 10))\n",
    "\n",
    "            axs[0].imshow(x_images[dx])\n",
    "            axs[0].set_title('img')\n",
    "            axs[0].axis('off')\n",
    "\n",
    "            for i in range(1, 13):\n",
    "                axs[i].imshow(y_mask[:, :, i - 1], cmap='gray')\n",
    "                axs[i].axis('off')  # Remove axes\n",
    "                axs[i].set_title(f'Class {i}')\n",
    "            plt.show()\n",
    "\n",
    "        print(f'Batch shape {np.shape(x_images)} and for masks {np.shape(y_images)}')\n",
    "        print(f'image shape {np.shape(x_images[dx])} and for masks {np.shape(y_images[dx])}')\n",
    "        print(f'max value for images is {np.max(x_images[dx])} and for masks {np.max(y_images[dx])}')\n",
    "        print(f'min value for images is {np.min(x_images[dx])} and for masks {np.min(y_images[dx])}')\n",
    "        print(f'number of unique values in images is {len(np.unique(x_images[dx]))} and for masks {np.unique(y_images[dx])}')\n"
   ]
  },
  {
   "cell_type": "code",
   "execution_count": 31,
   "id": "ae9ee858-fd7b-40de-ab0b-6801f77cd7a0",
   "metadata": {
    "tags": []
   },
   "outputs": [
    {
     "data": {
      "image/png": "[encoded data removed]",
      "text/plain": [
       "<Figure size 2000x1000 with 13 Axes>"
      ]
     },
     "metadata": {},
     "output_type": "display_data"
    },
    {
     "name": "stdout",
     "output_type": "stream",
     "text": [
      "Batch shape (1, 256, 256, 3) and for masks (1, 256, 256, 12)\n",
      "image shape (256, 256, 3) and for masks (256, 256, 12)\n",
      "max value for images is 1.0 and for masks 1.0\n",
      "min value for images is 0.003921568859368563 and for masks 0.0\n",
      "number of unique values in images is 253 and for masks [0. 1.]\n"
     ]
    }
   ],
   "source": [
    "test = DataGenerator(x,y,batch_size=1,aug=0)\n",
    "a,b = test.__getitem__(50)\n",
    "test.viz(a,b)"
   ]
  },
  {
   "cell_type": "code",
   "execution_count": 36,
   "id": "f5834c6a-3626-4bc6-9478-01762d17f453",
   "metadata": {
    "tags": []
   },
   "outputs": [],
   "source": [
    "\n",
    "fil = 32\n",
    "inputs = Input((256, 256,3))\n",
    "\n",
    "\n",
    "# Contractive\n",
    "conv1 = Conv2D(fil, 3, activation = 'relu', padding = 'same', kernel_initializer = 'he_normal')(inputs)\n",
    "conv1 = Conv2D(fil, 3, activation = 'relu', padding = 'same', kernel_initializer = 'he_normal')(conv1)\n",
    "conv1 = BatchNormalization()(conv1)\n",
    "pool1 = MaxPooling2D(pool_size=(2, 2))(conv1)\n",
    "\n",
    "conv2 = Conv2D(fil*2, 3, activation = 'relu', padding = 'same', kernel_initializer = 'he_normal')(pool1)\n",
    "conv2 = Conv2D(fil*2, 3, activation = 'relu', padding = 'same', kernel_initializer = 'he_normal')(conv2)\n",
    "conv2 = BatchNormalization()(conv2)\n",
    "pool2 = MaxPooling2D(pool_size=(2, 2))(conv2)\n",
    "\n",
    "conv3 = Conv2D(fil*4, 3, activation = 'relu', padding = 'same', kernel_initializer = 'he_normal')(pool2)\n",
    "conv3 = Conv2D(fil*4, 3, activation = 'relu', padding = 'same', kernel_initializer = 'he_normal')(conv3)\n",
    "conv3 = BatchNormalization()(conv3)\n",
    "pool3 = MaxPooling2D(pool_size=(2, 2))(conv3)\n",
    "\n",
    "conv4 = Conv2D(fil*8, 3, activation = 'relu', padding = 'same', kernel_initializer = 'he_normal')(pool3)\n",
    "conv4 = Conv2D(fil*8, 3, activation = 'relu', padding = 'same', kernel_initializer = 'he_normal')(conv4)\n",
    "conv4 = BatchNormalization()(conv4)\n",
    "pool4 = MaxPooling2D(pool_size=(2, 2))(conv4)\n",
    "\n",
    "conv5 = Conv2D(fil*16, 3, activation = 'relu', padding = 'same', kernel_initializer = 'he_normal')(pool4)\n",
    "conv5 = Conv2D(fil*16, 3, activation = 'relu', padding = 'same', kernel_initializer = 'he_normal')(conv5)\n",
    "conv5 = BatchNormalization()(conv5)\n",
    "\n",
    "# Expansive\n",
    "upconv1 = Conv2D(fil*8, 2, activation = 'relu', padding = 'same', kernel_initializer = 'he_normal')(conv5)\n",
    "up6 = UpSampling2D(size = (2,2))(upconv1)\n",
    "merge6 = concatenate([conv4,up6], axis = 3)\n",
    "conv6 = Conv2D(fil*8, 3, activation = 'relu', padding = 'same', kernel_initializer = 'he_normal')(merge6)\n",
    "conv6 = Conv2D(fil*8, 3, activation = 'relu', padding = 'same', kernel_initializer = 'he_normal')(conv6)\n",
    "conv6 = BatchNormalization()(conv6)\n",
    "\n",
    "upconv2 = Conv2D(fil*8, 2, activation = 'relu', padding = 'same', kernel_initializer = 'he_normal')(conv6)\n",
    "up7 = UpSampling2D(size = (2,2))(upconv2)\n",
    "merge7 = concatenate([conv3,up7], axis = 3)\n",
    "conv7 = Conv2D(fil*4, 3, activation = 'relu', padding = 'same', kernel_initializer = 'he_normal')(merge7)\n",
    "conv7 = Conv2D(fil*4, 3, activation = 'relu', padding = 'same', kernel_initializer = 'he_normal')(conv7)\n",
    "conv7 = BatchNormalization()(conv7)\n",
    "\n",
    "upconv3 = Conv2D(128, 2, activation = 'relu', padding = 'same', kernel_initializer = 'he_normal')(conv7)\n",
    "up8 = UpSampling2D(size = (2,2))(upconv3)\n",
    "merge8 = concatenate([conv2,up8], axis = 3)\n",
    "conv8 = Conv2D(fil*2, 3, activation = 'relu', padding = 'same', kernel_initializer = 'he_normal')(merge8)\n",
    "conv8 = Conv2D(fil*2, 3, activation = 'relu', padding = 'same', kernel_initializer = 'he_normal')(conv8)\n",
    "conv8 = BatchNormalization()(conv8)\n",
    "\n",
    "\n",
    "upconv4 = Conv2D(fil*2, 2, activation = 'relu', padding = 'same', kernel_initializer = 'he_normal')(conv8)\n",
    "up9 = UpSampling2D(size = (2,2))(upconv4)\n",
    "merge9 = concatenate([conv1,up9], axis = 3)\n",
    "conv9 = Conv2D(fil, 3, activation = 'relu', padding = 'same', kernel_initializer = 'he_normal')(merge9)\n",
    "conv9 = Conv2D(fil, 3, activation = 'relu', padding = 'same', kernel_initializer = 'he_normal')(conv9)\n",
    "conv9 = BatchNormalization()(conv9)\n",
    "\n",
    "\n",
    "conv10 = Conv2D(12, 1, activation = 'softmax')(conv9)\n",
    "\n",
    "model = Model(inputs = inputs, outputs = conv10)\n",
    "\n",
    "#model.summary()\n",
    "\n",
    "\n"
   ]
  },
  {
   "cell_type": "code",
   "execution_count": 18,
   "id": "b3566220-80b7-445b-8ef7-21bfb1df302e",
   "metadata": {},
   "outputs": [
    {
     "name": "stdout",
     "output_type": "stream",
     "text": [
      "Segmentation Models: using `keras` framework.\n"
     ]
    }
   ],
   "source": [
    "from keras.callbacks import EarlyStopping\n",
    "\n",
    "earlystop_callback = EarlyStopping(\n",
    "    monitor='loss', \n",
    "    min_delta=0.0001,\n",
    "    patience=5,\n",
    "    verbose=1, \n",
    "    mode='auto' \n",
    ")\n",
    "\n",
    "from segmentation_models.losses import DiceLoss\n",
    "from segmentation_models.metrics import IOUScore\n",
    "\n",
    "loss = DiceLoss()\n",
    "metric = IOUScore()\n",
    "\n",
    "def custom_loss(y_true, y_pred):\n",
    "    y_true_exclude_first = y_true[:, :, :, 1:]\n",
    "    y_pred_exclude_first = y_pred[:, :, :, 1:]\n",
    "    return loss(y_true_exclude_first, y_pred_exclude_first)\n",
    "\n",
    "# Define custom metric excluding the first channel\n",
    "def custom_metric(y_true, y_pred):\n",
    "    y_true_exclude_first = y_true[:, :, :, 1:]\n",
    "    y_pred_exclude_first = y_pred[:, :, :, 1:]\n",
    "    return metric(y_true_exclude_first, y_pred_exclude_first)\n"
   ]
  },
  {
   "cell_type": "code",
   "execution_count": 33,
   "id": "31057d84-1831-430e-8724-2232b98b3a04",
   "metadata": {
    "tags": []
   },
   "outputs": [],
   "source": [
    "from segmentation_models.losses import DiceLoss\n",
    "from segmentation_models.metrics import IOUScore\n",
    "\n",
    "DiceLoss = DiceLoss()\n",
    "IOUscore = IOUScore()"
   ]
  },
  {
   "cell_type": "code",
   "execution_count": 35,
   "id": "fd2b455b-3de3-40a7-be59-b2125ef49d1e",
   "metadata": {
    "tags": []
   },
   "outputs": [
    {
     "name": "stdout",
     "output_type": "stream",
     "text": [
      "Epoch 1/5\n",
      "172/172 [==============================] - 108s 618ms/step - loss: 0.8875 - iou_score: 0.0850 - val_loss: 0.9753 - val_iou_score: 0.0131\n",
      "Epoch 2/5\n",
      "172/172 [==============================] - 105s 609ms/step - loss: 0.8555 - iou_score: 0.1236 - val_loss: 0.8419 - val_iou_score: 0.1455\n",
      "Epoch 3/5\n",
      "172/172 [==============================] - 107s 624ms/step - loss: 0.7467 - iou_score: 0.2309 - val_loss: 0.7469 - val_iou_score: 0.2349\n",
      "Epoch 4/5\n",
      "172/172 [==============================] - 105s 611ms/step - loss: 0.7417 - iou_score: 0.2374 - val_loss: 0.7456 - val_iou_score: 0.2355\n",
      "Epoch 5/5\n",
      " 71/172 [===========>..................] - ETA: 57s - loss: 0.7370 - iou_score: 0.2440"
     ]
    },
    {
     "ename": "KeyboardInterrupt",
     "evalue": "",
     "output_type": "error",
     "traceback": [
      "\u001b[1;31m---------------------------------------------------------------------------\u001b[0m",
      "\u001b[1;31mKeyboardInterrupt\u001b[0m                         Traceback (most recent call last)",
      "Cell \u001b[1;32mIn[35], line 5\u001b[0m\n\u001b[0;32m      1\u001b[0m model\u001b[38;5;241m.\u001b[39mcompile(optimizer\u001b[38;5;241m=\u001b[39mAdam(learning_rate\u001b[38;5;241m=\u001b[39m\u001b[38;5;241m0.1\u001b[39m,),\n\u001b[0;32m      2\u001b[0m               loss\u001b[38;5;241m=\u001b[39mDiceLoss,\n\u001b[0;32m      3\u001b[0m               metrics\u001b[38;5;241m=\u001b[39m[IOUscore])\n\u001b[1;32m----> 5\u001b[0m history \u001b[38;5;241m=\u001b[39m \u001b[43mmodel\u001b[49m\u001b[38;5;241;43m.\u001b[39;49m\u001b[43mfit\u001b[49m\u001b[43m(\u001b[49m\u001b[43mDataGenerator\u001b[49m\u001b[43m(\u001b[49m\u001b[43mX_train\u001b[49m\u001b[43m,\u001b[49m\u001b[43m \u001b[49m\u001b[43mY_train\u001b[49m\u001b[43m,\u001b[49m\u001b[43m \u001b[49m\u001b[43mbatch_size\u001b[49m\u001b[38;5;241;43m=\u001b[39;49m\u001b[38;5;241;43m32\u001b[39;49m\u001b[43m)\u001b[49m\u001b[43m,\u001b[49m\n\u001b[0;32m      6\u001b[0m \u001b[43m                    \u001b[49m\u001b[43mepochs\u001b[49m\u001b[38;5;241;43m=\u001b[39;49m\u001b[38;5;241;43m5\u001b[39;49m\u001b[43m,\u001b[49m\n\u001b[0;32m      7\u001b[0m \u001b[43m                    \u001b[49m\u001b[43mcallbacks\u001b[49m\u001b[38;5;241;43m=\u001b[39;49m\u001b[43mearlystop_callback\u001b[49m\u001b[43m,\u001b[49m\n\u001b[0;32m      8\u001b[0m \u001b[43m                    \u001b[49m\u001b[43mvalidation_data\u001b[49m\u001b[38;5;241;43m=\u001b[39;49m\u001b[43mDataGenerator\u001b[49m\u001b[43m(\u001b[49m\u001b[43mX_val\u001b[49m\u001b[43m,\u001b[49m\u001b[43m \u001b[49m\u001b[43mY_val\u001b[49m\u001b[43m,\u001b[49m\u001b[43m \u001b[49m\u001b[43mbatch_size\u001b[49m\u001b[38;5;241;43m=\u001b[39;49m\u001b[38;5;241;43m32\u001b[39;49m\u001b[43m)\u001b[49m\u001b[43m)\u001b[49m\n",
      "File \u001b[1;32m~\\.conda\\envs\\HUNet\\lib\\site-packages\\keras\\utils\\traceback_utils.py:64\u001b[0m, in \u001b[0;36mfilter_traceback.<locals>.error_handler\u001b[1;34m(*args, **kwargs)\u001b[0m\n\u001b[0;32m     62\u001b[0m filtered_tb \u001b[38;5;241m=\u001b[39m \u001b[38;5;28;01mNone\u001b[39;00m\n\u001b[0;32m     63\u001b[0m \u001b[38;5;28;01mtry\u001b[39;00m:\n\u001b[1;32m---> 64\u001b[0m   \u001b[38;5;28;01mreturn\u001b[39;00m fn(\u001b[38;5;241m*\u001b[39margs, \u001b[38;5;241m*\u001b[39m\u001b[38;5;241m*\u001b[39mkwargs)\n\u001b[0;32m     65\u001b[0m \u001b[38;5;28;01mexcept\u001b[39;00m \u001b[38;5;167;01mException\u001b[39;00m \u001b[38;5;28;01mas\u001b[39;00m e:  \u001b[38;5;66;03m# pylint: disable=broad-except\u001b[39;00m\n\u001b[0;32m     66\u001b[0m   filtered_tb \u001b[38;5;241m=\u001b[39m _process_traceback_frames(e\u001b[38;5;241m.\u001b[39m__traceback__)\n",
      "File \u001b[1;32m~\\.conda\\envs\\HUNet\\lib\\site-packages\\keras\\engine\\training.py:1409\u001b[0m, in \u001b[0;36mModel.fit\u001b[1;34m(self, x, y, batch_size, epochs, verbose, callbacks, validation_split, validation_data, shuffle, class_weight, sample_weight, initial_epoch, steps_per_epoch, validation_steps, validation_batch_size, validation_freq, max_queue_size, workers, use_multiprocessing)\u001b[0m\n\u001b[0;32m   1402\u001b[0m \u001b[38;5;28;01mwith\u001b[39;00m tf\u001b[38;5;241m.\u001b[39mprofiler\u001b[38;5;241m.\u001b[39mexperimental\u001b[38;5;241m.\u001b[39mTrace(\n\u001b[0;32m   1403\u001b[0m     \u001b[38;5;124m'\u001b[39m\u001b[38;5;124mtrain\u001b[39m\u001b[38;5;124m'\u001b[39m,\n\u001b[0;32m   1404\u001b[0m     epoch_num\u001b[38;5;241m=\u001b[39mepoch,\n\u001b[0;32m   1405\u001b[0m     step_num\u001b[38;5;241m=\u001b[39mstep,\n\u001b[0;32m   1406\u001b[0m     batch_size\u001b[38;5;241m=\u001b[39mbatch_size,\n\u001b[0;32m   1407\u001b[0m     _r\u001b[38;5;241m=\u001b[39m\u001b[38;5;241m1\u001b[39m):\n\u001b[0;32m   1408\u001b[0m   callbacks\u001b[38;5;241m.\u001b[39mon_train_batch_begin(step)\n\u001b[1;32m-> 1409\u001b[0m   tmp_logs \u001b[38;5;241m=\u001b[39m \u001b[38;5;28;43mself\u001b[39;49m\u001b[38;5;241;43m.\u001b[39;49m\u001b[43mtrain_function\u001b[49m\u001b[43m(\u001b[49m\u001b[43miterator\u001b[49m\u001b[43m)\u001b[49m\n\u001b[0;32m   1410\u001b[0m   \u001b[38;5;28;01mif\u001b[39;00m data_handler\u001b[38;5;241m.\u001b[39mshould_sync:\n\u001b[0;32m   1411\u001b[0m     context\u001b[38;5;241m.\u001b[39masync_wait()\n",
      "File \u001b[1;32m~\\.conda\\envs\\HUNet\\lib\\site-packages\\tensorflow\\python\\util\\traceback_utils.py:150\u001b[0m, in \u001b[0;36mfilter_traceback.<locals>.error_handler\u001b[1;34m(*args, **kwargs)\u001b[0m\n\u001b[0;32m    148\u001b[0m filtered_tb \u001b[38;5;241m=\u001b[39m \u001b[38;5;28;01mNone\u001b[39;00m\n\u001b[0;32m    149\u001b[0m \u001b[38;5;28;01mtry\u001b[39;00m:\n\u001b[1;32m--> 150\u001b[0m   \u001b[38;5;28;01mreturn\u001b[39;00m fn(\u001b[38;5;241m*\u001b[39margs, \u001b[38;5;241m*\u001b[39m\u001b[38;5;241m*\u001b[39mkwargs)\n\u001b[0;32m    151\u001b[0m \u001b[38;5;28;01mexcept\u001b[39;00m \u001b[38;5;167;01mException\u001b[39;00m \u001b[38;5;28;01mas\u001b[39;00m e:\n\u001b[0;32m    152\u001b[0m   filtered_tb \u001b[38;5;241m=\u001b[39m _process_traceback_frames(e\u001b[38;5;241m.\u001b[39m__traceback__)\n",
      "File \u001b[1;32m~\\.conda\\envs\\HUNet\\lib\\site-packages\\tensorflow\\python\\eager\\def_function.py:915\u001b[0m, in \u001b[0;36mFunction.__call__\u001b[1;34m(self, *args, **kwds)\u001b[0m\n\u001b[0;32m    912\u001b[0m compiler \u001b[38;5;241m=\u001b[39m \u001b[38;5;124m\"\u001b[39m\u001b[38;5;124mxla\u001b[39m\u001b[38;5;124m\"\u001b[39m \u001b[38;5;28;01mif\u001b[39;00m \u001b[38;5;28mself\u001b[39m\u001b[38;5;241m.\u001b[39m_jit_compile \u001b[38;5;28;01melse\u001b[39;00m \u001b[38;5;124m\"\u001b[39m\u001b[38;5;124mnonXla\u001b[39m\u001b[38;5;124m\"\u001b[39m\n\u001b[0;32m    914\u001b[0m \u001b[38;5;28;01mwith\u001b[39;00m OptionalXlaContext(\u001b[38;5;28mself\u001b[39m\u001b[38;5;241m.\u001b[39m_jit_compile):\n\u001b[1;32m--> 915\u001b[0m   result \u001b[38;5;241m=\u001b[39m \u001b[38;5;28mself\u001b[39m\u001b[38;5;241m.\u001b[39m_call(\u001b[38;5;241m*\u001b[39margs, \u001b[38;5;241m*\u001b[39m\u001b[38;5;241m*\u001b[39mkwds)\n\u001b[0;32m    917\u001b[0m new_tracing_count \u001b[38;5;241m=\u001b[39m \u001b[38;5;28mself\u001b[39m\u001b[38;5;241m.\u001b[39mexperimental_get_tracing_count()\n\u001b[0;32m    918\u001b[0m without_tracing \u001b[38;5;241m=\u001b[39m (tracing_count \u001b[38;5;241m==\u001b[39m new_tracing_count)\n",
      "File \u001b[1;32m~\\.conda\\envs\\HUNet\\lib\\site-packages\\tensorflow\\python\\eager\\def_function.py:947\u001b[0m, in \u001b[0;36mFunction._call\u001b[1;34m(self, *args, **kwds)\u001b[0m\n\u001b[0;32m    944\u001b[0m   \u001b[38;5;28mself\u001b[39m\u001b[38;5;241m.\u001b[39m_lock\u001b[38;5;241m.\u001b[39mrelease()\n\u001b[0;32m    945\u001b[0m   \u001b[38;5;66;03m# In this case we have created variables on the first call, so we run the\u001b[39;00m\n\u001b[0;32m    946\u001b[0m   \u001b[38;5;66;03m# defunned version which is guaranteed to never create variables.\u001b[39;00m\n\u001b[1;32m--> 947\u001b[0m   \u001b[38;5;28;01mreturn\u001b[39;00m \u001b[38;5;28mself\u001b[39m\u001b[38;5;241m.\u001b[39m_stateless_fn(\u001b[38;5;241m*\u001b[39margs, \u001b[38;5;241m*\u001b[39m\u001b[38;5;241m*\u001b[39mkwds)  \u001b[38;5;66;03m# pylint: disable=not-callable\u001b[39;00m\n\u001b[0;32m    948\u001b[0m \u001b[38;5;28;01melif\u001b[39;00m \u001b[38;5;28mself\u001b[39m\u001b[38;5;241m.\u001b[39m_stateful_fn \u001b[38;5;129;01mis\u001b[39;00m \u001b[38;5;129;01mnot\u001b[39;00m \u001b[38;5;28;01mNone\u001b[39;00m:\n\u001b[0;32m    949\u001b[0m   \u001b[38;5;66;03m# Release the lock early so that multiple threads can perform the call\u001b[39;00m\n\u001b[0;32m    950\u001b[0m   \u001b[38;5;66;03m# in parallel.\u001b[39;00m\n\u001b[0;32m    951\u001b[0m   \u001b[38;5;28mself\u001b[39m\u001b[38;5;241m.\u001b[39m_lock\u001b[38;5;241m.\u001b[39mrelease()\n",
      "File \u001b[1;32m~\\.conda\\envs\\HUNet\\lib\\site-packages\\tensorflow\\python\\eager\\function.py:2453\u001b[0m, in \u001b[0;36mFunction.__call__\u001b[1;34m(self, *args, **kwargs)\u001b[0m\n\u001b[0;32m   2450\u001b[0m \u001b[38;5;28;01mwith\u001b[39;00m \u001b[38;5;28mself\u001b[39m\u001b[38;5;241m.\u001b[39m_lock:\n\u001b[0;32m   2451\u001b[0m   (graph_function,\n\u001b[0;32m   2452\u001b[0m    filtered_flat_args) \u001b[38;5;241m=\u001b[39m \u001b[38;5;28mself\u001b[39m\u001b[38;5;241m.\u001b[39m_maybe_define_function(args, kwargs)\n\u001b[1;32m-> 2453\u001b[0m \u001b[38;5;28;01mreturn\u001b[39;00m \u001b[43mgraph_function\u001b[49m\u001b[38;5;241;43m.\u001b[39;49m\u001b[43m_call_flat\u001b[49m\u001b[43m(\u001b[49m\n\u001b[0;32m   2454\u001b[0m \u001b[43m    \u001b[49m\u001b[43mfiltered_flat_args\u001b[49m\u001b[43m,\u001b[49m\u001b[43m \u001b[49m\u001b[43mcaptured_inputs\u001b[49m\u001b[38;5;241;43m=\u001b[39;49m\u001b[43mgraph_function\u001b[49m\u001b[38;5;241;43m.\u001b[39;49m\u001b[43mcaptured_inputs\u001b[49m\u001b[43m)\u001b[49m\n",
      "File \u001b[1;32m~\\.conda\\envs\\HUNet\\lib\\site-packages\\tensorflow\\python\\eager\\function.py:1860\u001b[0m, in \u001b[0;36mConcreteFunction._call_flat\u001b[1;34m(self, args, captured_inputs, cancellation_manager)\u001b[0m\n\u001b[0;32m   1856\u001b[0m possible_gradient_type \u001b[38;5;241m=\u001b[39m gradients_util\u001b[38;5;241m.\u001b[39mPossibleTapeGradientTypes(args)\n\u001b[0;32m   1857\u001b[0m \u001b[38;5;28;01mif\u001b[39;00m (possible_gradient_type \u001b[38;5;241m==\u001b[39m gradients_util\u001b[38;5;241m.\u001b[39mPOSSIBLE_GRADIENT_TYPES_NONE\n\u001b[0;32m   1858\u001b[0m     \u001b[38;5;129;01mand\u001b[39;00m executing_eagerly):\n\u001b[0;32m   1859\u001b[0m   \u001b[38;5;66;03m# No tape is watching; skip to running the function.\u001b[39;00m\n\u001b[1;32m-> 1860\u001b[0m   \u001b[38;5;28;01mreturn\u001b[39;00m \u001b[38;5;28mself\u001b[39m\u001b[38;5;241m.\u001b[39m_build_call_outputs(\u001b[38;5;28;43mself\u001b[39;49m\u001b[38;5;241;43m.\u001b[39;49m\u001b[43m_inference_function\u001b[49m\u001b[38;5;241;43m.\u001b[39;49m\u001b[43mcall\u001b[49m\u001b[43m(\u001b[49m\n\u001b[0;32m   1861\u001b[0m \u001b[43m      \u001b[49m\u001b[43mctx\u001b[49m\u001b[43m,\u001b[49m\u001b[43m \u001b[49m\u001b[43margs\u001b[49m\u001b[43m,\u001b[49m\u001b[43m \u001b[49m\u001b[43mcancellation_manager\u001b[49m\u001b[38;5;241;43m=\u001b[39;49m\u001b[43mcancellation_manager\u001b[49m\u001b[43m)\u001b[49m)\n\u001b[0;32m   1862\u001b[0m forward_backward \u001b[38;5;241m=\u001b[39m \u001b[38;5;28mself\u001b[39m\u001b[38;5;241m.\u001b[39m_select_forward_and_backward_functions(\n\u001b[0;32m   1863\u001b[0m     args,\n\u001b[0;32m   1864\u001b[0m     possible_gradient_type,\n\u001b[0;32m   1865\u001b[0m     executing_eagerly)\n\u001b[0;32m   1866\u001b[0m forward_function, args_with_tangents \u001b[38;5;241m=\u001b[39m forward_backward\u001b[38;5;241m.\u001b[39mforward()\n",
      "File \u001b[1;32m~\\.conda\\envs\\HUNet\\lib\\site-packages\\tensorflow\\python\\eager\\function.py:497\u001b[0m, in \u001b[0;36m_EagerDefinedFunction.call\u001b[1;34m(self, ctx, args, cancellation_manager)\u001b[0m\n\u001b[0;32m    495\u001b[0m \u001b[38;5;28;01mwith\u001b[39;00m _InterpolateFunctionError(\u001b[38;5;28mself\u001b[39m):\n\u001b[0;32m    496\u001b[0m   \u001b[38;5;28;01mif\u001b[39;00m cancellation_manager \u001b[38;5;129;01mis\u001b[39;00m \u001b[38;5;28;01mNone\u001b[39;00m:\n\u001b[1;32m--> 497\u001b[0m     outputs \u001b[38;5;241m=\u001b[39m \u001b[43mexecute\u001b[49m\u001b[38;5;241;43m.\u001b[39;49m\u001b[43mexecute\u001b[49m\u001b[43m(\u001b[49m\n\u001b[0;32m    498\u001b[0m \u001b[43m        \u001b[49m\u001b[38;5;28;43mstr\u001b[39;49m\u001b[43m(\u001b[49m\u001b[38;5;28;43mself\u001b[39;49m\u001b[38;5;241;43m.\u001b[39;49m\u001b[43msignature\u001b[49m\u001b[38;5;241;43m.\u001b[39;49m\u001b[43mname\u001b[49m\u001b[43m)\u001b[49m\u001b[43m,\u001b[49m\n\u001b[0;32m    499\u001b[0m \u001b[43m        \u001b[49m\u001b[43mnum_outputs\u001b[49m\u001b[38;5;241;43m=\u001b[39;49m\u001b[38;5;28;43mself\u001b[39;49m\u001b[38;5;241;43m.\u001b[39;49m\u001b[43m_num_outputs\u001b[49m\u001b[43m,\u001b[49m\n\u001b[0;32m    500\u001b[0m \u001b[43m        \u001b[49m\u001b[43minputs\u001b[49m\u001b[38;5;241;43m=\u001b[39;49m\u001b[43margs\u001b[49m\u001b[43m,\u001b[49m\n\u001b[0;32m    501\u001b[0m \u001b[43m        \u001b[49m\u001b[43mattrs\u001b[49m\u001b[38;5;241;43m=\u001b[39;49m\u001b[43mattrs\u001b[49m\u001b[43m,\u001b[49m\n\u001b[0;32m    502\u001b[0m \u001b[43m        \u001b[49m\u001b[43mctx\u001b[49m\u001b[38;5;241;43m=\u001b[39;49m\u001b[43mctx\u001b[49m\u001b[43m)\u001b[49m\n\u001b[0;32m    503\u001b[0m   \u001b[38;5;28;01melse\u001b[39;00m:\n\u001b[0;32m    504\u001b[0m     outputs \u001b[38;5;241m=\u001b[39m execute\u001b[38;5;241m.\u001b[39mexecute_with_cancellation(\n\u001b[0;32m    505\u001b[0m         \u001b[38;5;28mstr\u001b[39m(\u001b[38;5;28mself\u001b[39m\u001b[38;5;241m.\u001b[39msignature\u001b[38;5;241m.\u001b[39mname),\n\u001b[0;32m    506\u001b[0m         num_outputs\u001b[38;5;241m=\u001b[39m\u001b[38;5;28mself\u001b[39m\u001b[38;5;241m.\u001b[39m_num_outputs,\n\u001b[1;32m   (...)\u001b[0m\n\u001b[0;32m    509\u001b[0m         ctx\u001b[38;5;241m=\u001b[39mctx,\n\u001b[0;32m    510\u001b[0m         cancellation_manager\u001b[38;5;241m=\u001b[39mcancellation_manager)\n",
      "File \u001b[1;32m~\\.conda\\envs\\HUNet\\lib\\site-packages\\tensorflow\\python\\eager\\execute.py:54\u001b[0m, in \u001b[0;36mquick_execute\u001b[1;34m(op_name, num_outputs, inputs, attrs, ctx, name)\u001b[0m\n\u001b[0;32m     52\u001b[0m \u001b[38;5;28;01mtry\u001b[39;00m:\n\u001b[0;32m     53\u001b[0m   ctx\u001b[38;5;241m.\u001b[39mensure_initialized()\n\u001b[1;32m---> 54\u001b[0m   tensors \u001b[38;5;241m=\u001b[39m \u001b[43mpywrap_tfe\u001b[49m\u001b[38;5;241;43m.\u001b[39;49m\u001b[43mTFE_Py_Execute\u001b[49m\u001b[43m(\u001b[49m\u001b[43mctx\u001b[49m\u001b[38;5;241;43m.\u001b[39;49m\u001b[43m_handle\u001b[49m\u001b[43m,\u001b[49m\u001b[43m \u001b[49m\u001b[43mdevice_name\u001b[49m\u001b[43m,\u001b[49m\u001b[43m \u001b[49m\u001b[43mop_name\u001b[49m\u001b[43m,\u001b[49m\n\u001b[0;32m     55\u001b[0m \u001b[43m                                      \u001b[49m\u001b[43minputs\u001b[49m\u001b[43m,\u001b[49m\u001b[43m \u001b[49m\u001b[43mattrs\u001b[49m\u001b[43m,\u001b[49m\u001b[43m \u001b[49m\u001b[43mnum_outputs\u001b[49m\u001b[43m)\u001b[49m\n\u001b[0;32m     56\u001b[0m \u001b[38;5;28;01mexcept\u001b[39;00m core\u001b[38;5;241m.\u001b[39m_NotOkStatusException \u001b[38;5;28;01mas\u001b[39;00m e:\n\u001b[0;32m     57\u001b[0m   \u001b[38;5;28;01mif\u001b[39;00m name \u001b[38;5;129;01mis\u001b[39;00m \u001b[38;5;129;01mnot\u001b[39;00m \u001b[38;5;28;01mNone\u001b[39;00m:\n",
      "\u001b[1;31mKeyboardInterrupt\u001b[0m: "
     ]
    }
   ],
   "source": [
    "model.compile(optimizer=Adam(learning_rate=0.1,),\n",
    "              loss=DiceLoss,\n",
    "              metrics=[IOUscore])\n",
    "\n",
    "history = model.fit(DataGenerator(X_train, Y_train, batch_size=32),\n",
    "                    epochs=5,\n",
    "                    callbacks=earlystop_callback,\n",
    "                    validation_data=DataGenerator(X_val, Y_val, batch_size=32))\n"
   ]
  },
  {
   "cell_type": "code",
   "execution_count": null,
   "id": "c59ac57b-c70c-4eec-8654-88156b471dcf",
   "metadata": {},
   "outputs": [],
   "source": [
    "of = DataGenerator(overfit_X_train, overtfit_Y_train, batch_size=3, aug=True)\n",
    "ofx, ofy = of.__getitem__(0)\n",
    "of.viz(ofx, ofy)"
   ]
  },
  {
   "cell_type": "code",
   "execution_count": 104,
   "id": "eba1df45-98ff-434f-8d94-525ba1db532b",
   "metadata": {},
   "outputs": [
    {
     "name": "stdout",
     "output_type": "stream",
     "text": [
      "Epoch 1/30\n",
      "1/1 [==============================] - 1s 1s/step - loss: 0.9887 - custom_metric: 0.0061\n",
      "Epoch 2/30\n",
      "1/1 [==============================] - 0s 27ms/step - loss: 0.9867 - custom_metric: 0.0072\n",
      "Epoch 3/30\n",
      "1/1 [==============================] - 0s 32ms/step - loss: 0.9856 - custom_metric: 0.0079\n",
      "Epoch 4/30\n",
      "1/1 [==============================] - 0s 29ms/step - loss: 0.9849 - custom_metric: 0.0083\n",
      "Epoch 5/30\n",
      "1/1 [==============================] - 0s 36ms/step - loss: 0.9842 - custom_metric: 0.0087\n",
      "Epoch 6/30\n",
      "1/1 [==============================] - 0s 40ms/step - loss: 0.9835 - custom_metric: 0.0092\n",
      "Epoch 7/30\n",
      "1/1 [==============================] - 0s 44ms/step - loss: 0.9829 - custom_metric: 0.0095\n",
      "Epoch 8/30\n",
      "1/1 [==============================] - 0s 42ms/step - loss: 0.9824 - custom_metric: 0.0098\n",
      "Epoch 9/30\n",
      "1/1 [==============================] - 0s 41ms/step - loss: 0.9820 - custom_metric: 0.0101\n",
      "Epoch 10/30\n",
      "1/1 [==============================] - 0s 27ms/step - loss: 0.9816 - custom_metric: 0.0103\n",
      "Epoch 11/30\n",
      "1/1 [==============================] - 0s 29ms/step - loss: 0.9812 - custom_metric: 0.0106\n",
      "Epoch 12/30\n",
      "1/1 [==============================] - 0s 17ms/step - loss: 0.9809 - custom_metric: 0.0108\n",
      "Epoch 13/30\n",
      "1/1 [==============================] - 0s 19ms/step - loss: 0.9807 - custom_metric: 0.0109\n",
      "Epoch 14/30\n",
      "1/1 [==============================] - 0s 21ms/step - loss: 0.9806 - custom_metric: 0.0110\n",
      "Epoch 15/30\n",
      "1/1 [==============================] - 0s 33ms/step - loss: 0.9804 - custom_metric: 0.0111\n",
      "Epoch 16/30\n",
      "1/1 [==============================] - 0s 35ms/step - loss: 0.9802 - custom_metric: 0.0112\n",
      "Epoch 17/30\n",
      "1/1 [==============================] - 0s 36ms/step - loss: 0.9800 - custom_metric: 0.0114\n",
      "Epoch 18/30\n",
      "1/1 [==============================] - 0s 36ms/step - loss: 0.9798 - custom_metric: 0.0115\n",
      "Epoch 19/30\n",
      "1/1 [==============================] - 0s 34ms/step - loss: 0.9797 - custom_metric: 0.0116\n",
      "Epoch 20/30\n",
      "1/1 [==============================] - 0s 37ms/step - loss: 0.9795 - custom_metric: 0.0117\n",
      "Epoch 21/30\n",
      "1/1 [==============================] - 0s 26ms/step - loss: 0.9794 - custom_metric: 0.0117\n",
      "Epoch 22/30\n",
      "1/1 [==============================] - 0s 38ms/step - loss: 0.9793 - custom_metric: 0.0118\n",
      "Epoch 23/30\n",
      "1/1 [==============================] - 0s 33ms/step - loss: 0.9791 - custom_metric: 0.0119\n",
      "Epoch 24/30\n",
      "1/1 [==============================] - 0s 42ms/step - loss: 0.9790 - custom_metric: 0.0120\n",
      "Epoch 25/30\n",
      "1/1 [==============================] - 0s 41ms/step - loss: 0.9789 - custom_metric: 0.0121\n",
      "Epoch 26/30\n",
      "1/1 [==============================] - 0s 32ms/step - loss: 0.9787 - custom_metric: 0.0122\n",
      "Epoch 27/30\n",
      "1/1 [==============================] - 0s 41ms/step - loss: 0.9786 - custom_metric: 0.0123\n",
      "Epoch 28/30\n",
      "1/1 [==============================] - 0s 39ms/step - loss: 0.9785 - custom_metric: 0.0124\n",
      "Epoch 29/30\n",
      "1/1 [==============================] - 0s 38ms/step - loss: 0.9783 - custom_metric: 0.0124\n",
      "Epoch 30/30\n",
      "1/1 [==============================] - 0s 37ms/step - loss: 0.9782 - custom_metric: 0.0125\n"
     ]
    }
   ],
   "source": [
    "# overfitting\n",
    "from tensorflow_addons.optimizers import AdamW\n",
    "\n",
    "model.compile(optimizer=Adam(learning_rate=0.1), loss=DiceLoss, metrics=[IOUscore])\n",
    "\n",
    "history = model.fit(ofx, ofy, epochs=300)\n"
   ]
  },
  {
   "cell_type": "code",
   "execution_count": 109,
   "id": "15e9531b-1798-4092-8802-b40c2d7b07d9",
   "metadata": {
    "tags": []
   },
   "outputs": [
    {
     "data": {
      "image/png": "[encoded data removed]",
      "text/plain": [
       "<Figure size 640x480 with 1 Axes>"
      ]
     },
     "metadata": {},
     "output_type": "display_data"
    }
   ],
   "source": [
    "#how was the network on each epoch?\n",
    "\n",
    "plt.plot(history.history['loss'])\n",
    "plt.title('Model iou_score')\n",
    "plt.ylabel('loss')\n",
    "plt.xlabel('Epoch')\n",
    "plt.legend(['Train'], loc='upper right')\n",
    "plt.show()"
   ]
  },
  {
   "cell_type": "code",
   "execution_count": 111,
   "id": "afa64e9e-fe1c-476c-884c-ee08365fb2e9",
   "metadata": {
    "tags": []
   },
   "outputs": [
    {
     "name": "stdout",
     "output_type": "stream",
     "text": [
      "1/1 [==============================] - 0s 54ms/step - loss: 0.9727 - custom_metric: 0.0145\n"
     ]
    }
   ],
   "source": [
    "DataGen = DataGenerator(X_test, Y_test, batch_size=len(X_test),aug=True)\n",
    "a, b =DataGen.__getitem__(0)\n",
    "score = model.evaluate(a,b)\n"
   ]
  },
  {
   "cell_type": "code",
   "execution_count": null,
   "id": "702ef42c-2360-4420-815c-318b4650f9ab",
   "metadata": {
    "tags": []
   },
   "outputs": [],
   "source": []
  },
  {
   "cell_type": "code",
   "execution_count": 20,
   "id": "cafc6846-fdcd-4a64-b853-17e83b678a7f",
   "metadata": {
    "tags": []
   },
   "outputs": [
    {
     "ename": "RuntimeError",
     "evalue": "You must compile your model before training/testing. Use `model.compile(optimizer, loss)`.",
     "output_type": "error",
     "traceback": [
      "\u001b[1;31m---------------------------------------------------------------------------\u001b[0m",
      "\u001b[1;31mRuntimeError\u001b[0m                              Traceback (most recent call last)",
      "Cell \u001b[1;32mIn[20], line 4\u001b[0m\n\u001b[0;32m      2\u001b[0m DataGen \u001b[38;5;241m=\u001b[39m DataGenerator(X_test, Y_test, batch_size\u001b[38;5;241m=\u001b[39m\u001b[38;5;241m1\u001b[39m, aug\u001b[38;5;241m=\u001b[39m\u001b[38;5;28;01mTrue\u001b[39;00m)\n\u001b[0;32m      3\u001b[0m img, mask \u001b[38;5;241m=\u001b[39m DataGen\u001b[38;5;241m.\u001b[39m\u001b[38;5;21m__getitem__\u001b[39m(\u001b[38;5;241m0\u001b[39m)\n\u001b[1;32m----> 4\u001b[0m score \u001b[38;5;241m=\u001b[39m \u001b[43mmodel\u001b[49m\u001b[38;5;241;43m.\u001b[39;49m\u001b[43mevaluate\u001b[49m\u001b[43m(\u001b[49m\u001b[43mimg\u001b[49m\u001b[43m,\u001b[49m\u001b[43m \u001b[49m\u001b[43mmask\u001b[49m\u001b[43m)\u001b[49m\n\u001b[0;32m      5\u001b[0m y_pred \u001b[38;5;241m=\u001b[39m model\u001b[38;5;241m.\u001b[39mpredict(img)\n\u001b[0;32m      7\u001b[0m \u001b[38;5;66;03m# Create a figure with three subplots arranged horizontally\u001b[39;00m\n",
      "File \u001b[1;32m~\\.conda\\envs\\HUNet\\lib\\site-packages\\keras\\utils\\traceback_utils.py:67\u001b[0m, in \u001b[0;36mfilter_traceback.<locals>.error_handler\u001b[1;34m(*args, **kwargs)\u001b[0m\n\u001b[0;32m     65\u001b[0m \u001b[38;5;28;01mexcept\u001b[39;00m \u001b[38;5;167;01mException\u001b[39;00m \u001b[38;5;28;01mas\u001b[39;00m e:  \u001b[38;5;66;03m# pylint: disable=broad-except\u001b[39;00m\n\u001b[0;32m     66\u001b[0m   filtered_tb \u001b[38;5;241m=\u001b[39m _process_traceback_frames(e\u001b[38;5;241m.\u001b[39m__traceback__)\n\u001b[1;32m---> 67\u001b[0m   \u001b[38;5;28;01mraise\u001b[39;00m e\u001b[38;5;241m.\u001b[39mwith_traceback(filtered_tb) \u001b[38;5;28;01mfrom\u001b[39;00m \u001b[38;5;28mNone\u001b[39m\n\u001b[0;32m     68\u001b[0m \u001b[38;5;28;01mfinally\u001b[39;00m:\n\u001b[0;32m     69\u001b[0m   \u001b[38;5;28;01mdel\u001b[39;00m filtered_tb\n",
      "File \u001b[1;32m~\\.conda\\envs\\HUNet\\lib\\site-packages\\keras\\engine\\training.py:3160\u001b[0m, in \u001b[0;36mModel._assert_compile_was_called\u001b[1;34m(self)\u001b[0m\n\u001b[0;32m   3154\u001b[0m \u001b[38;5;28;01mdef\u001b[39;00m \u001b[38;5;21m_assert_compile_was_called\u001b[39m(\u001b[38;5;28mself\u001b[39m):\n\u001b[0;32m   3155\u001b[0m   \u001b[38;5;66;03m# Checks whether `compile` has been called. If it has been called,\u001b[39;00m\n\u001b[0;32m   3156\u001b[0m   \u001b[38;5;66;03m# then the optimizer is set. This is different from whether the\u001b[39;00m\n\u001b[0;32m   3157\u001b[0m   \u001b[38;5;66;03m# model is compiled\u001b[39;00m\n\u001b[0;32m   3158\u001b[0m   \u001b[38;5;66;03m# (i.e. whether the model is built and its inputs/outputs are set).\u001b[39;00m\n\u001b[0;32m   3159\u001b[0m   \u001b[38;5;28;01mif\u001b[39;00m \u001b[38;5;129;01mnot\u001b[39;00m \u001b[38;5;28mself\u001b[39m\u001b[38;5;241m.\u001b[39m_is_compiled:\n\u001b[1;32m-> 3160\u001b[0m     \u001b[38;5;28;01mraise\u001b[39;00m \u001b[38;5;167;01mRuntimeError\u001b[39;00m(\u001b[38;5;124m'\u001b[39m\u001b[38;5;124mYou must compile your model before \u001b[39m\u001b[38;5;124m'\u001b[39m\n\u001b[0;32m   3161\u001b[0m                        \u001b[38;5;124m'\u001b[39m\u001b[38;5;124mtraining/testing. \u001b[39m\u001b[38;5;124m'\u001b[39m\n\u001b[0;32m   3162\u001b[0m                        \u001b[38;5;124m'\u001b[39m\u001b[38;5;124mUse `model.compile(optimizer, loss)`.\u001b[39m\u001b[38;5;124m'\u001b[39m)\n",
      "\u001b[1;31mRuntimeError\u001b[0m: You must compile your model before training/testing. Use `model.compile(optimizer, loss)`."
     ]
    }
   ],
   "source": [
    "# Normal\n",
    "DataGen = DataGenerator(X_test, Y_test, batch_size=1, aug=True)\n",
    "img, mask = DataGen.__getitem__(0)\n",
    "score = model.evaluate(img, mask)\n",
    "y_pred = model.predict(img)\n",
    "\n",
    "# Create a figure with three subplots arranged horizontally\n",
    "fig, axs = plt.subplots(1, 2, figsize=(10, 5))\n",
    "\n",
    "# Plot the input image in the first subplot\n",
    "axs[0].imshow(img[0])\n",
    "axs[0].set_title('Input image')\n",
    "\n",
    "# Create an empty array to store the changed image\n",
    "changed_img = np.zeros((12, 256, 256, 1), dtype=np.uint8)\n",
    "\n",
    "# Iterate over the channels and assign values accordingly\n",
    "for i in range(12):\n",
    "    temp = (mask[:, :, :, i] == 1.).astype(np.uint8)\n",
    "    changed_img[:, :, :, 0] += temp * (i + 1)\n",
    "\n",
    "\n",
    "# Plot the ground truth output in the second subplot\n",
    "im = axs[1].imshow(np.sum(mask[0], axis=2))\n",
    "axs[1].set_title('Ground truth output')\n",
    "plt.colorbar(im, ax=axs[1])\n",
    "\n",
    "##################################\n",
    "\n",
    "# Create the subplots\n",
    "fig, axs = plt.subplots(1, 12, figsize=(15, 5))\n",
    "\n",
    "# Loop through each subplot\n",
    "for i, ax in enumerate(axs.flat):\n",
    "    ax.imshow(mask[0][:, :, i])\n",
    "    ax.axis('off')\n",
    "    ans = np.mean(mask[0][:, :, i])\n",
    "    ax.set_title(f'p(y{i+1}) = {ans:.2f}', fontsize=8)\n",
    "\n",
    "plt.show()\n",
    "\n",
    "###########################################\n",
    "\n",
    "# Create the subplots\n",
    "fig, axs = plt.subplots(1, 12, figsize=(15, 5))\n",
    "\n",
    "# Loop through each subplot\n",
    "for i, ax in enumerate(axs.flat):\n",
    "    ax.imshow(y_pred[0][:, :, i])\n",
    "    ax.axis('off')\n",
    "    ans = np.mean(y_pred[0][:, :, i])\n",
    "    ax.set_title(f'p(y{i+1}) = {ans:.2f}', fontsize=8)\n",
    "\n",
    "plt.show()\n"
   ]
  },
  {
   "cell_type": "code",
   "execution_count": null,
   "id": "e9830ed3-956b-466f-beec-934efc5c53b3",
   "metadata": {
    "tags": []
   },
   "outputs": [],
   "source": [
    "In [1]: # Over fitted\n",
    "   ...: \n",
    "   ...: \n",
    "   ...: j = 2\n",
    "   ...: y_pred = model.predict(ofx[j:j+1])\n",
    "   ...: img = ofx[j:j+1]\n",
    "   ...: mask = ofy[j:j+1]\n",
    "   ...: \n",
    "   ...: # Create a figure with three subplots arranged horizontally\n",
    "   ...: fig, axs = plt.subplots(1, 2, figsize=(10, 5))\n",
    "   ...: \n",
    "   ...: # Plot the input image in the first subplot\n",
    "   ...: axs[0].imshow(img[0])\n",
    "   ...: axs[0].set_title('Input image')\n",
    "   ...: \n",
    "   ...: # Create an empty array to store the changed image\n",
    "   ...: changed_img = np.zeros((12, 256, 256, 1), dtype=np.uint8)\n",
    "   ...: \n",
    "   ...: # Iterate over the channels and assign values accordingly\n",
    "   ...: for i in range(12):\n",
    "   ...:     temp = (mask[:,:, :, i] == 1.).astype(np.uint8)\n",
    "   ...:     changed_img[:, :, :, 0] += temp * (i + 1)\n",
    "   ...: \n",
    "   ...: \n",
    "   ...: # Plot the ground truth output in the second subplot\n",
    "   ...: axs[1].imshow(np.sum(mask[0],axis=2))\n",
    "   ...: axs[1].set_title('Ground truth output')\n",
    "   ...: \n",
    "   ...: ##################################\n",
    "   ...: # Create the subplots\n",
    "   ...: fig, axs = plt.subplots(1, 12,figsize=(15, 5))\n",
    "   ...: \n",
    "   ...: # Loop through each subplot\n",
    "   ...: for i, ax in enumerate(axs.flat):\n",
    "   ...:     ax.imshow(mask[0][:, :, i])\n",
    "   ...:     ax.axis('off')\n",
    "   ...:     ans = np.mean(mask[0][:, :, i])\n",
    "   ...:     ax.set_title(f'p(y{i+1}) = {ans:.2f}', fontsize=8)\n",
    "   ...: \n",
    "   ...: plt.show()\n",
    "   ...: \n",
    "   ...: ###########################################\n",
    "   ...: # Create the subplots\n",
    "   ...: fig, axs = plt.subplots(1, 12,figsize=(15, 5))\n",
    "   ...: \n",
    "   ...: # Loop through each subplot\n",
    "   ...: for i, ax in enumerate(axs.flat):\n",
    "   ...:     ax.imshow(y_pred[0][:, :, i])\n",
    "   ...:     ax.axis('off')\n",
    "   ...:     ans = np.mean(y_pred[0][:, :, i])\n",
    "   ...:     ax.set_title(f'p(y{i+1}) = {ans:.2f}', fontsize=8)\n",
    "   ...: \n",
    "   ...: plt.show()"
   ]
  },
  {
   "cell_type": "code",
   "execution_count": null,
   "id": "36438052-136a-458a-80e7-3c667831b1d0",
   "metadata": {},
   "outputs": [],
   "source": []
  }
 ],
 "metadata": {
  "kernelspec": {
   "display_name": "HUNet",
   "language": "python",
   "name": "hunet"
  },
  "language_info": {
   "codemirror_mode": {
    "name": "ipython",
    "version": 3
   },
   "file_extension": ".py",
   "mimetype": "text/x-python",
   "name": "python",
   "nbconvert_exporter": "python",
   "pygments_lexer": "ipython3",
   "version": "3.9.16"
  }
 },
 "nbformat": 4,
 "nbformat_minor": 5
}
