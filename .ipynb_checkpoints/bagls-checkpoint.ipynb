{
 "cells": [
  {
   "cell_type": "code",
   "execution_count": null,
   "id": "bebc0580-3b94-4367-bf9d-ed13c4294cf1",
   "metadata": {},
   "outputs": [],
   "source": [
    "# Implementing a U-net network on Bagls dataset.\n",
    "\n",
    "import os\n",
    "import numpy as np\n",
    "from PIL import Image\n",
    "import matplotlib.pyplot as plt\n",
    "from natsort import natsorted\n",
    "\n"
   ]
  },
  {
   "cell_type": "code",
   "execution_count": null,
   "id": "60abd3af-e632-4c6a-86a8-61f6c05578d6",
   "metadata": {},
   "outputs": [],
   "source": [
    "#getting the file directories for x=features and y=masks\n",
    "\n",
    "data_dir = '/Users/macbookpro/Desktop/Programmings/Forschungspraktikum/Data/test'\n",
    "\n",
    "x = []\n",
    "y = []\n",
    "\n",
    "for filename in natsorted(os.listdir(data_dir)):\n",
    "    if filename.endswith('.png'):\n",
    "        if not filename.endswith('_seg.png'):\n",
    "            x.append(os.path.join(data_dir, filename))\n",
    "        else:\n",
    "            y.append(os.path.join(data_dir, filename))\n",
    "\n"
   ]
  },
  {
   "cell_type": "code",
   "execution_count": null,
   "id": "0e66cf18-2d99-4962-ae6e-ce5cf8d1fa84",
   "metadata": {},
   "outputs": [],
   "source": [
    "# Load x images\n",
    "x_images = []\n",
    "for filename in x:\n",
    "    img = Image.open(os.path.join(data_dir, filename))\n",
    "    img = img.resize((256,256))\n",
    "    img_arr = np.array(img)\n",
    "    x_images.append(img_arr)\n",
    "\n",
    "# Load y images\n",
    "y_images = []\n",
    "for filename in y:\n",
    "    img = Image.open(os.path.join(data_dir, filename))\n",
    "    img = img.resize((256,256))\n",
    "    img_arr = np.array(img)\n",
    "    y_images.append(img_arr)"
   ]
  },
  {
   "cell_type": "code",
   "execution_count": null,
   "id": "7a5daea1-4732-435e-8c4e-4cc00d212920",
   "metadata": {},
   "outputs": [],
   "source": [
    "#example plot of x,y\n",
    "\n",
    "fig, axs = plt.subplots(1, 2, figsize=(10, 5))\n",
    "axs[0].imshow(x_images[2])\n",
    "axs[0].set_title('Input Image')\n",
    "axs[1].imshow(y_images[2])\n",
    "axs[1].set_title('Segmentation Mask')\n",
    "plt.show()"
   ]
  },
  {
   "cell_type": "code",
   "execution_count": null,
   "id": "3b5c8b51-0c38-4f3e-86de-1d39069b9089",
   "metadata": {},
   "outputs": [],
   "source": [
    "#spliting the data\n",
    "\n",
    "testno = int(len(x) * (80/100)) \n",
    "valno = int(testno + len(x) * (10/100))\n",
    "trainno = int(valno + len(x) * (10/100))\n",
    "\n",
    "x_train, y_train = x_images[:testno], y_images[:testno]\n",
    "x_val, y_val = x_images[testno:valno], y_images[testno:valno]\n",
    "x_test, y_test = x_images[valno:trainno], y_images[valno:trainno]\n",
    "\n",
    "# Print number of samples in each set\n",
    "print('Number of samples in training set:', len(x_train))\n",
    "print('Number of samples in validation set:', len(x_val))\n",
    "print('Number of samples in test set:', len(x_test))"
   ]
  },
  {
   "cell_type": "code",
   "execution_count": 1,
   "id": "3b84f17c-a1c3-4e9d-aa06-95c0e7ff86dd",
   "metadata": {},
   "outputs": [],
   "source": [
    "# model goes here"
   ]
  },
  {
   "cell_type": "code",
   "execution_count": null,
   "id": "628390d7-00cd-425d-8f86-c997209dcdec",
   "metadata": {},
   "outputs": [],
   "source": []
  },
  {
   "cell_type": "code",
   "execution_count": 111,
   "id": "d49105a6-55c8-476c-a962-6f698e7f7510",
   "metadata": {},
   "outputs": [
    {
     "name": "stdout",
     "output_type": "stream",
     "text": [
      "Note: you may need to restart the kernel to use updated packages.\n"
     ]
    }
   ],
   "source": []
  },
  {
   "cell_type": "code",
   "execution_count": null,
   "id": "08e4a5e2-edf8-402a-b3b5-79292175a978",
   "metadata": {},
   "outputs": [],
   "source": []
  }
 ],
 "metadata": {
  "kernelspec": {
   "display_name": "Python 3",
   "language": "python",
   "name": "python3"
  },
  "language_info": {
   "codemirror_mode": {
    "name": "ipython",
    "version": 3
   },
   "file_extension": ".py",
   "mimetype": "text/x-python",
   "name": "python",
   "nbconvert_exporter": "python",
   "pygments_lexer": "ipython3",
   "version": "3.8.8"
  }
 },
 "nbformat": 4,
 "nbformat_minor": 5
}
